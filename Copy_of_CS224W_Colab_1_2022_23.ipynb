{
  "nbformat": 4,
  "nbformat_minor": 0,
  "metadata": {
    "kernelspec": {
      "display_name": "Python 3",
      "language": "python",
      "name": "python3"
    },
    "language_info": {
      "codemirror_mode": {
        "name": "ipython",
        "version": 3
      },
      "file_extension": ".py",
      "mimetype": "text/x-python",
      "name": "python",
      "nbconvert_exporter": "python",
      "pygments_lexer": "ipython3",
      "version": "3.7.3"
    },
    "colab": {
      "provenance": [],
      "machine_shape": "hm",
      "include_colab_link": true
    }
  },
  "cells": [
    {
      "cell_type": "markdown",
      "metadata": {
        "id": "view-in-github",
        "colab_type": "text"
      },
      "source": [
        "<a href=\"https://colab.research.google.com/github/Tomsha1407/GNN/blob/main/Copy_of_CS224W_Colab_1_2022_23.ipynb\" target=\"_parent\"><img src=\"https://colab.research.google.com/assets/colab-badge.svg\" alt=\"Open In Colab\"/></a>"
      ]
    },
    {
      "cell_type": "markdown",
      "metadata": {
        "id": "XuXWJLEm2UWS"
      },
      "source": [
        "# **CS224W - Colab 1**"
      ]
    },
    {
      "cell_type": "markdown",
      "metadata": {
        "id": "8gzsP50bF6Gb"
      },
      "source": [
        "In this Colab, we will write a full pipeline for **learning node embeddings**.\n",
        "We will go through the following 3 steps.\n",
        "\n",
        "To start, we will load a classic graph in network science, the [Karate Club Network](https://en.wikipedia.org/wiki/Zachary%27s_karate_club). We will explore multiple graph statistics for that graph.\n",
        "\n",
        "We will then work together to transform the graph structure into a PyTorch tensor, so that we can perform machine learning over the graph.\n",
        "\n",
        "Finally, we will finish the first learning algorithm on graphs: a node embedding model. For simplicity, our model here is simpler than DeepWalk / node2vec algorithms taught in the lecture. But it's still rewarding and challenging, as we will write it from scratch via PyTorch.\n",
        "\n",
        "Now let's get started! This Colab should take roughly 1 hour to complete.\n",
        "\n",
        "**Note**: Make sure to **restart and run all** before submission, so that the intermediate variables / packages will carry over to the next cell"
      ]
    },
    {
      "cell_type": "markdown",
      "metadata": {
        "id": "Nwwq0nSdmsOL"
      },
      "source": [
        "# 1 Graph Basics\n",
        "To start, we will load a classic graph in network science, the [Karate Club Network](https://en.wikipedia.org/wiki/Zachary%27s_karate_club). We will explore multiple graph statistics for that graph."
      ]
    },
    {
      "cell_type": "markdown",
      "metadata": {
        "id": "FDkpByYYfSzb"
      },
      "source": [
        "## Setup\n",
        "We will heavily use NetworkX in this Colab."
      ]
    },
    {
      "cell_type": "code",
      "metadata": {
        "id": "VWPkJjPAfVNW"
      },
      "source": [
        "import networkx as nx"
      ],
      "execution_count": 112,
      "outputs": []
    },
    {
      "cell_type": "markdown",
      "metadata": {
        "id": "VqUnYT5qUZYh"
      },
      "source": [
        "## Zachary's karate club network\n",
        "\n",
        "The [Karate Club Network](https://en.wikipedia.org/wiki/Zachary%27s_karate_club) is a graph which describes a social network of 34 members of a karate club and documents links between members who interacted outside the club."
      ]
    },
    {
      "cell_type": "code",
      "metadata": {
        "id": "VIETqEfrfy5Y",
        "colab": {
          "base_uri": "https://localhost:8080/",
          "height": 186
        },
        "outputId": "593e82cc-974e-42c9-b108-9ef3677b209c"
      },
      "source": [
        "G = nx.karate_club_graph()\n",
        "\n",
        "# G is an undirected graph\n",
        "type(G)"
      ],
      "execution_count": 113,
      "outputs": [
        {
          "output_type": "execute_result",
          "data": {
            "text/plain": [
              "networkx.classes.graph.Graph"
            ],
            "text/html": [
              "<div style=\"max-width:800px; border: 1px solid var(--colab-border-color);\"><style>\n",
              "      pre.function-repr-contents {\n",
              "        overflow-x: auto;\n",
              "        padding: 8px 12px;\n",
              "        max-height: 500px;\n",
              "      }\n",
              "\n",
              "      pre.function-repr-contents.function-repr-contents-collapsed {\n",
              "        cursor: pointer;\n",
              "        max-height: 100px;\n",
              "      }\n",
              "    </style>\n",
              "    <pre style=\"white-space: initial; background:\n",
              "         var(--colab-secondary-surface-color); padding: 8px 12px;\n",
              "         border-bottom: 1px solid var(--colab-border-color);\"><b>networkx.classes.graph.Graph</b><br/>def __init__(incoming_graph_data=None, **attr)</pre><pre class=\"function-repr-contents function-repr-contents-collapsed\" style=\"\"><a class=\"filepath\" style=\"display:none\" href=\"#\">/usr/local/lib/python3.10/dist-packages/networkx/classes/graph.py</a>Base class for undirected graphs.\n",
              "\n",
              "A Graph stores nodes and edges with optional data, or attributes.\n",
              "\n",
              "Graphs hold undirected edges.  Self loops are allowed but multiple\n",
              "(parallel) edges are not.\n",
              "\n",
              "Nodes can be arbitrary (hashable) Python objects with optional\n",
              "key/value attributes, except that `None` is not allowed as a node.\n",
              "\n",
              "Edges are represented as links between nodes with optional\n",
              "key/value attributes.\n",
              "\n",
              "Parameters\n",
              "----------\n",
              "incoming_graph_data : input graph (optional, default: None)\n",
              "    Data to initialize graph. If None (default) an empty\n",
              "    graph is created.  The data can be any format that is supported\n",
              "    by the to_networkx_graph() function, currently including edge list,\n",
              "    dict of dicts, dict of lists, NetworkX graph, 2D NumPy array, SciPy\n",
              "    sparse matrix, or PyGraphviz graph.\n",
              "\n",
              "attr : keyword arguments, optional (default= no attributes)\n",
              "    Attributes to add to graph as key=value pairs.\n",
              "\n",
              "See Also\n",
              "--------\n",
              "DiGraph\n",
              "MultiGraph\n",
              "MultiDiGraph\n",
              "\n",
              "Examples\n",
              "--------\n",
              "Create an empty graph structure (a &quot;null graph&quot;) with no nodes and\n",
              "no edges.\n",
              "\n",
              "&gt;&gt;&gt; G = nx.Graph()\n",
              "\n",
              "G can be grown in several ways.\n",
              "\n",
              "**Nodes:**\n",
              "\n",
              "Add one node at a time:\n",
              "\n",
              "&gt;&gt;&gt; G.add_node(1)\n",
              "\n",
              "Add the nodes from any container (a list, dict, set or\n",
              "even the lines from a file or the nodes from another graph).\n",
              "\n",
              "&gt;&gt;&gt; G.add_nodes_from([2, 3])\n",
              "&gt;&gt;&gt; G.add_nodes_from(range(100, 110))\n",
              "&gt;&gt;&gt; H = nx.path_graph(10)\n",
              "&gt;&gt;&gt; G.add_nodes_from(H)\n",
              "\n",
              "In addition to strings and integers any hashable Python object\n",
              "(except None) can represent a node, e.g. a customized node object,\n",
              "or even another Graph.\n",
              "\n",
              "&gt;&gt;&gt; G.add_node(H)\n",
              "\n",
              "**Edges:**\n",
              "\n",
              "G can also be grown by adding edges.\n",
              "\n",
              "Add one edge,\n",
              "\n",
              "&gt;&gt;&gt; G.add_edge(1, 2)\n",
              "\n",
              "a list of edges,\n",
              "\n",
              "&gt;&gt;&gt; G.add_edges_from([(1, 2), (1, 3)])\n",
              "\n",
              "or a collection of edges,\n",
              "\n",
              "&gt;&gt;&gt; G.add_edges_from(H.edges)\n",
              "\n",
              "If some edges connect nodes not yet in the graph, the nodes\n",
              "are added automatically.  There are no errors when adding\n",
              "nodes or edges that already exist.\n",
              "\n",
              "**Attributes:**\n",
              "\n",
              "Each graph, node, and edge can hold key/value attribute pairs\n",
              "in an associated attribute dictionary (the keys must be hashable).\n",
              "By default these are empty, but can be added or changed using\n",
              "add_edge, add_node or direct manipulation of the attribute\n",
              "dictionaries named graph, node and edge respectively.\n",
              "\n",
              "&gt;&gt;&gt; G = nx.Graph(day=&quot;Friday&quot;)\n",
              "&gt;&gt;&gt; G.graph\n",
              "{&#x27;day&#x27;: &#x27;Friday&#x27;}\n",
              "\n",
              "Add node attributes using add_node(), add_nodes_from() or G.nodes\n",
              "\n",
              "&gt;&gt;&gt; G.add_node(1, time=&quot;5pm&quot;)\n",
              "&gt;&gt;&gt; G.add_nodes_from([3], time=&quot;2pm&quot;)\n",
              "&gt;&gt;&gt; G.nodes[1]\n",
              "{&#x27;time&#x27;: &#x27;5pm&#x27;}\n",
              "&gt;&gt;&gt; G.nodes[1][&quot;room&quot;] = 714  # node must exist already to use G.nodes\n",
              "&gt;&gt;&gt; del G.nodes[1][&quot;room&quot;]  # remove attribute\n",
              "&gt;&gt;&gt; list(G.nodes(data=True))\n",
              "[(1, {&#x27;time&#x27;: &#x27;5pm&#x27;}), (3, {&#x27;time&#x27;: &#x27;2pm&#x27;})]\n",
              "\n",
              "Add edge attributes using add_edge(), add_edges_from(), subscript\n",
              "notation, or G.edges.\n",
              "\n",
              "&gt;&gt;&gt; G.add_edge(1, 2, weight=4.7)\n",
              "&gt;&gt;&gt; G.add_edges_from([(3, 4), (4, 5)], color=&quot;red&quot;)\n",
              "&gt;&gt;&gt; G.add_edges_from([(1, 2, {&quot;color&quot;: &quot;blue&quot;}), (2, 3, {&quot;weight&quot;: 8})])\n",
              "&gt;&gt;&gt; G[1][2][&quot;weight&quot;] = 4.7\n",
              "&gt;&gt;&gt; G.edges[1, 2][&quot;weight&quot;] = 4\n",
              "\n",
              "Warning: we protect the graph data structure by making `G.edges` a\n",
              "read-only dict-like structure. However, you can assign to attributes\n",
              "in e.g. `G.edges[1, 2]`. Thus, use 2 sets of brackets to add/change\n",
              "data attributes: `G.edges[1, 2][&#x27;weight&#x27;] = 4`\n",
              "(For multigraphs: `MG.edges[u, v, key][name] = value`).\n",
              "\n",
              "**Shortcuts:**\n",
              "\n",
              "Many common graph features allow python syntax to speed reporting.\n",
              "\n",
              "&gt;&gt;&gt; 1 in G  # check if node in graph\n",
              "True\n",
              "&gt;&gt;&gt; [n for n in G if n &lt; 3]  # iterate through nodes\n",
              "[1, 2]\n",
              "&gt;&gt;&gt; len(G)  # number of nodes in graph\n",
              "5\n",
              "\n",
              "Often the best way to traverse all edges of a graph is via the neighbors.\n",
              "The neighbors are reported as an adjacency-dict `G.adj` or `G.adjacency()`\n",
              "\n",
              "&gt;&gt;&gt; for n, nbrsdict in G.adjacency():\n",
              "...     for nbr, eattr in nbrsdict.items():\n",
              "...         if &quot;weight&quot; in eattr:\n",
              "...             # Do something useful with the edges\n",
              "...             pass\n",
              "\n",
              "But the edges() method is often more convenient:\n",
              "\n",
              "&gt;&gt;&gt; for u, v, weight in G.edges.data(&quot;weight&quot;):\n",
              "...     if weight is not None:\n",
              "...         # Do something useful with the edges\n",
              "...         pass\n",
              "\n",
              "**Reporting:**\n",
              "\n",
              "Simple graph information is obtained using object-attributes and methods.\n",
              "Reporting typically provides views instead of containers to reduce memory\n",
              "usage. The views update as the graph is updated similarly to dict-views.\n",
              "The objects `nodes`, `edges` and `adj` provide access to data attributes\n",
              "via lookup (e.g. `nodes[n]`, `edges[u, v]`, `adj[u][v]`) and iteration\n",
              "(e.g. `nodes.items()`, `nodes.data(&#x27;color&#x27;)`,\n",
              "`nodes.data(&#x27;color&#x27;, default=&#x27;blue&#x27;)` and similarly for `edges`)\n",
              "Views exist for `nodes`, `edges`, `neighbors()`/`adj` and `degree`.\n",
              "\n",
              "For details on these and other miscellaneous methods, see below.\n",
              "\n",
              "**Subclasses (Advanced):**\n",
              "\n",
              "The Graph class uses a dict-of-dict-of-dict data structure.\n",
              "The outer dict (node_dict) holds adjacency information keyed by node.\n",
              "The next dict (adjlist_dict) represents the adjacency information and holds\n",
              "edge data keyed by neighbor.  The inner dict (edge_attr_dict) represents\n",
              "the edge data and holds edge attribute values keyed by attribute names.\n",
              "\n",
              "Each of these three dicts can be replaced in a subclass by a user defined\n",
              "dict-like object. In general, the dict-like features should be\n",
              "maintained but extra features can be added. To replace one of the\n",
              "dicts create a new graph class by changing the class(!) variable\n",
              "holding the factory for that dict-like structure.\n",
              "\n",
              "node_dict_factory : function, (default: dict)\n",
              "    Factory function to be used to create the dict containing node\n",
              "    attributes, keyed by node id.\n",
              "    It should require no arguments and return a dict-like object\n",
              "\n",
              "node_attr_dict_factory: function, (default: dict)\n",
              "    Factory function to be used to create the node attribute\n",
              "    dict which holds attribute values keyed by attribute name.\n",
              "    It should require no arguments and return a dict-like object\n",
              "\n",
              "adjlist_outer_dict_factory : function, (default: dict)\n",
              "    Factory function to be used to create the outer-most dict\n",
              "    in the data structure that holds adjacency info keyed by node.\n",
              "    It should require no arguments and return a dict-like object.\n",
              "\n",
              "adjlist_inner_dict_factory : function, (default: dict)\n",
              "    Factory function to be used to create the adjacency list\n",
              "    dict which holds edge data keyed by neighbor.\n",
              "    It should require no arguments and return a dict-like object\n",
              "\n",
              "edge_attr_dict_factory : function, (default: dict)\n",
              "    Factory function to be used to create the edge attribute\n",
              "    dict which holds attribute values keyed by attribute name.\n",
              "    It should require no arguments and return a dict-like object.\n",
              "\n",
              "graph_attr_dict_factory : function, (default: dict)\n",
              "    Factory function to be used to create the graph attribute\n",
              "    dict which holds attribute values keyed by attribute name.\n",
              "    It should require no arguments and return a dict-like object.\n",
              "\n",
              "Typically, if your extension doesn&#x27;t impact the data structure all\n",
              "methods will inherit without issue except: `to_directed/to_undirected`.\n",
              "By default these methods create a DiGraph/Graph class and you probably\n",
              "want them to create your extension of a DiGraph/Graph. To facilitate\n",
              "this we define two class variables that you can set in your subclass.\n",
              "\n",
              "to_directed_class : callable, (default: DiGraph or MultiDiGraph)\n",
              "    Class to create a new graph structure in the `to_directed` method.\n",
              "    If `None`, a NetworkX class (DiGraph or MultiDiGraph) is used.\n",
              "\n",
              "to_undirected_class : callable, (default: Graph or MultiGraph)\n",
              "    Class to create a new graph structure in the `to_undirected` method.\n",
              "    If `None`, a NetworkX class (Graph or MultiGraph) is used.\n",
              "\n",
              "**Subclassing Example**\n",
              "\n",
              "Create a low memory graph class that effectively disallows edge\n",
              "attributes by using a single attribute dict for all edges.\n",
              "This reduces the memory used, but you lose edge attributes.\n",
              "\n",
              "&gt;&gt;&gt; class ThinGraph(nx.Graph):\n",
              "...     all_edge_dict = {&quot;weight&quot;: 1}\n",
              "...\n",
              "...     def single_edge_dict(self):\n",
              "...         return self.all_edge_dict\n",
              "...\n",
              "...     edge_attr_dict_factory = single_edge_dict\n",
              "&gt;&gt;&gt; G = ThinGraph()\n",
              "&gt;&gt;&gt; G.add_edge(2, 1)\n",
              "&gt;&gt;&gt; G[2][1]\n",
              "{&#x27;weight&#x27;: 1}\n",
              "&gt;&gt;&gt; G.add_edge(2, 2)\n",
              "&gt;&gt;&gt; G[2][1] is G[2][2]\n",
              "True</pre>\n",
              "      <script>\n",
              "      if (google.colab.kernel.accessAllowed && google.colab.files && google.colab.files.view) {\n",
              "        for (const element of document.querySelectorAll('.filepath')) {\n",
              "          element.style.display = 'block'\n",
              "          element.onclick = (event) => {\n",
              "            event.preventDefault();\n",
              "            event.stopPropagation();\n",
              "            google.colab.files.view(element.textContent, 66);\n",
              "          };\n",
              "        }\n",
              "      }\n",
              "      for (const element of document.querySelectorAll('.function-repr-contents')) {\n",
              "        element.onclick = (event) => {\n",
              "          event.preventDefault();\n",
              "          event.stopPropagation();\n",
              "          element.classList.toggle('function-repr-contents-collapsed');\n",
              "        };\n",
              "      }\n",
              "      </script>\n",
              "      </div>"
            ]
          },
          "metadata": {},
          "execution_count": 113
        }
      ]
    },
    {
      "cell_type": "code",
      "metadata": {
        "id": "hDvf3nm-ors4",
        "colab": {
          "base_uri": "https://localhost:8080/",
          "height": 516
        },
        "outputId": "a417caa7-a56b-4f0a-c5bd-f37c46fc93a8"
      },
      "source": [
        "# Visualize the graph\n",
        "nx.draw(G, with_labels = True)"
      ],
      "execution_count": 114,
      "outputs": [
        {
          "output_type": "display_data",
          "data": {
            "text/plain": [
              "<Figure size 640x480 with 1 Axes>"
            ],
            "image/png": "[encoded data removed]"
          },
          "metadata": {}
        }
      ]
    },
    {
      "cell_type": "markdown",
      "metadata": {
        "id": "FX25Y1CrYmgN"
      },
      "source": [
        "## Question 1: What is the average degree of the karate club network? (5 Points)"
      ]
    },
    {
      "cell_type": "code",
      "metadata": {
        "id": "AUhES1VYo3tB",
        "colab": {
          "base_uri": "https://localhost:8080/"
        },
        "outputId": "31ff04c0-a516-4691-a893-4ba35f6acbff"
      },
      "source": [
        "def average_degree(num_edges, num_nodes):\n",
        "  # TODO: Implement this function that takes number of edges\n",
        "  # and number of nodes, and returns the average node degree of\n",
        "  # the graph. Round the result to nearest integer (for example\n",
        "  # 3.3 will be rounded to 3 and 3.7 will be rounded to 4)\n",
        "\n",
        "  avg_degree = 0\n",
        "\n",
        "  ############# Your code here ############\n",
        "  if num_nodes!=0:\n",
        "    avg_degree = round(2*num_edges/num_nodes)\n",
        "  #########################################\n",
        "\n",
        "  return avg_degree\n",
        "\n",
        "num_edges = G.number_of_edges()\n",
        "num_nodes = G.number_of_nodes()\n",
        "avg_degree = average_degree(num_edges, num_nodes)\n",
        "print(\"Average degree of karate club network is {}\".format(avg_degree))"
      ],
      "execution_count": 115,
      "outputs": [
        {
          "output_type": "stream",
          "name": "stdout",
          "text": [
            "Average degree of karate club network is 5\n"
          ]
        }
      ]
    },
    {
      "cell_type": "markdown",
      "metadata": {
        "id": "Fk02fD4vYmZI"
      },
      "source": [
        "## Question 2: What is the average clustering coefficient of the karate club network? (5 Points)"
      ]
    },
    {
      "cell_type": "code",
      "metadata": {
        "id": "k15XKEto1aYJ",
        "colab": {
          "base_uri": "https://localhost:8080/"
        },
        "outputId": "ff80e68a-ab9e-4ecf-e72a-6daf2f09f2d6"
      },
      "source": [
        "def average_clustering_coefficient(G):\n",
        "  # TODO: Implement this function that takes a nx.Graph\n",
        "  # and returns the average clustering coefficient. Round\n",
        "  # the result to 2 decimal places (for example 3.333 will\n",
        "  # be rounded to 3.33 and 3.7571 will be rounded to 3.76)\n",
        "\n",
        "  avg_cluster_coef = 0\n",
        "\n",
        "  ############# Your code here ############\n",
        "  ## Note:\n",
        "  ## 1: Please use the appropriate NetworkX clustering function\n",
        "  avg_cluster_coef = round(nx.average_clustering(G),2)\n",
        "  #########################################\n",
        "\n",
        "  return avg_cluster_coef\n",
        "\n",
        "avg_cluster_coef = average_clustering_coefficient(G)\n",
        "print(\"Average clustering coefficient of karate club network is {}\".format(avg_cluster_coef))"
      ],
      "execution_count": 116,
      "outputs": [
        {
          "output_type": "stream",
          "name": "stdout",
          "text": [
            "Average clustering coefficient of karate club network is 0.57\n"
          ]
        }
      ]
    },
    {
      "cell_type": "markdown",
      "metadata": {
        "id": "zghQ-AhXYmP4"
      },
      "source": [
        "## Question 3: What is the PageRank value for node 0 (node with id 0) after one PageRank iteration? (5 Points)\n",
        "\n",
        "Page Rank measures importance of nodes in a graph using the link structure of the web. A “vote” from an important page is worth more. Specifically, if  a page $i$ with importance $r_i$ has $d_i$ out-links, then each link gets $\\frac{r_i}{d_i}$ votes. Thus, the importance of a Page $j$, represented as $r_j$ is the sum of the votes on its in links.\n",
        "$$r_j = \\sum_{i \\rightarrow j} \\frac{r_i}{d_i}$$, where $d_i$ is the out degree of node $i$.\n",
        "\n",
        "The PageRank algorithm (used by Google) outputs a probability distribution which represent the likelihood of a random surfer clicking on links will arrive at any particular page. At each time step, the random surfer has two options\n",
        "- With prob. $\\beta$, follow a link at random\n",
        "- With prob. $1- \\beta$, jump to a random page\n",
        "\n",
        "Thus, the importance of a particular page is calculated with the following PageRank equation:\n",
        " $$r_j = \\sum_{i \\rightarrow j} \\beta \\frac{r_i}{d_i} + (1 - \\beta) \\frac{1}{N}$$\n",
        "\n",
        "Please complete the code block by implementing the above PageRank equation for node 0.\n",
        "\n",
        "Note - You can refer to more information from the slides here - http://snap.stanford.edu/class/cs224w-2020/slides/04-pagerank.pdf\n",
        "\n",
        "\n"
      ]
    },
    {
      "cell_type": "code",
      "source": [
        "first_comp = nx.all_neighbors(G, 0)\n",
        "for i in nx.neighbors(G, 0):\n",
        "    print(G.degree(i))\n",
        "print(G.number_of_nodes)"
      ],
      "metadata": {
        "colab": {
          "base_uri": "https://localhost:8080/"
        },
        "id": "XkVWo0e5WlAV",
        "outputId": "4188f519-fc3b-48ee-f6fe-1a44725b9a0a"
      },
      "execution_count": 117,
      "outputs": [
        {
          "output_type": "stream",
          "name": "stdout",
          "text": [
            "9\n",
            "10\n",
            "6\n",
            "3\n",
            "4\n",
            "4\n",
            "4\n",
            "5\n",
            "3\n",
            "1\n",
            "2\n",
            "5\n",
            "2\n",
            "3\n",
            "2\n",
            "6\n",
            "<bound method Graph.number_of_nodes of <networkx.classes.graph.Graph object at 0x7a2eaf5728f0>>\n"
          ]
        }
      ]
    },
    {
      "cell_type": "code",
      "metadata": {
        "id": "BOGdWjNc6O7x",
        "colab": {
          "base_uri": "https://localhost:8080/"
        },
        "outputId": "88e99a6a-3df7-45af-a4d3-24fbed78006b"
      },
      "source": [
        "def one_iter_pagerank(G, beta, r0, node_id):\n",
        "  # TODO: Implement this function that takes a nx.Graph, beta, r0 and node id.\n",
        "  # The return value r1 is one interation PageRank value for the input node.\n",
        "  # Please round r1 to 2 decimal places.\n",
        "\n",
        "  r1 = 0\n",
        "\n",
        "  ############# Your code here ############\n",
        "  ## Note:\n",
        "  ## 1: You should not use nx.pagerank\n",
        "  # find the nuber of neigbors of node_id in G #\tReturns an iterator over all neighbors of node n.\n",
        "  first_comp = 0\n",
        "  for i in nx.neighbors(G, node_id):\n",
        "    first_comp += r0/G.degree(i)\n",
        "  r1 = round(beta*first_comp+(1-beta)*(1/G.number_of_nodes()),2)\n",
        "  #########################################\n",
        "\n",
        "  return r1\n",
        "\n",
        "beta = 0.8\n",
        "r0 = 1 / G.number_of_nodes()\n",
        "node = 0\n",
        "r1 = one_iter_pagerank(G, beta, r0, node)\n",
        "print(\"The PageRank value for node 0 after one iteration is {}\".format(r1))"
      ],
      "execution_count": 118,
      "outputs": [
        {
          "output_type": "stream",
          "name": "stdout",
          "text": [
            "The PageRank value for node 0 after one iteration is 0.13\n"
          ]
        }
      ]
    },
    {
      "cell_type": "markdown",
      "metadata": {
        "id": "icTcOULeYmIu"
      },
      "source": [
        "## Question 4: What is the (raw) closeness centrality for the karate club network node 5? (5 Points)\n",
        "\n",
        "The equation for closeness centrality is $c(v) = \\frac{1}{\\sum_{u \\neq v}\\text{shortest path length between } u \\text{ and } v}$"
      ]
    },
    {
      "cell_type": "code",
      "metadata": {
        "id": "XbCsq_tl-3ok",
        "colab": {
          "base_uri": "https://localhost:8080/"
        },
        "outputId": "f1487656-00e3-4429-8f27-89004d618b34"
      },
      "source": [
        "def closeness_centrality(G, node=5):\n",
        "  # TODO: Implement the function that calculates closeness centrality\n",
        "  # for a node in karate club network. G is the input karate club\n",
        "  # network and node is the node id in the graph. Please round the\n",
        "  # closeness centrality result to 2 decimal places.\n",
        "\n",
        "  closeness = 0\n",
        "\n",
        "  ## Note:\n",
        "  ## 1: You can use networkx closeness centrality function.\n",
        "  ## 2: Notice that networkx closeness centrality returns the normalized\n",
        "  ## closeness directly, which is different from the raw (unnormalized)\n",
        "  ## one that we learned in the lecture.\n",
        "\n",
        "  #########################################\n",
        "  closeness = round(nx.closeness_centrality(G, node)/(G.number_of_nodes()-1),2) #assume a connected graph (a karate club net)\n",
        "  return closeness\n",
        "\n",
        "node = 5\n",
        "closeness = closeness_centrality(G, node=node)\n",
        "print(\"The node 5 has closeness centrality {}\".format(closeness))"
      ],
      "execution_count": 119,
      "outputs": [
        {
          "output_type": "stream",
          "name": "stdout",
          "text": [
            "The node 5 has closeness centrality 0.01\n"
          ]
        }
      ]
    },
    {
      "cell_type": "markdown",
      "metadata": {
        "id": "-MxvowibYl4x"
      },
      "source": [
        "# 2 Graph to Tensor\n",
        "We will then work together to transform the graph $G$ into a PyTorch tensor, so that we can perform machine learning over the graph."
      ]
    },
    {
      "cell_type": "markdown",
      "metadata": {
        "id": "eDA8PosrA-9V"
      },
      "source": [
        "## Setup\n",
        "Check if PyTorch is properly installed"
      ]
    },
    {
      "cell_type": "code",
      "metadata": {
        "id": "ntuPVat_BAf1",
        "colab": {
          "base_uri": "https://localhost:8080/"
        },
        "outputId": "39477afe-7f21-46ab-8afc-ed67427faf93"
      },
      "source": [
        "import torch\n",
        "print(torch.__version__)"
      ],
      "execution_count": 120,
      "outputs": [
        {
          "output_type": "stream",
          "name": "stdout",
          "text": [
            "2.4.0+cu121\n"
          ]
        }
      ]
    },
    {
      "cell_type": "markdown",
      "metadata": {
        "id": "fko_2wSKYlun"
      },
      "source": [
        "## PyTorch tensor basics\n",
        "\n",
        "We can generate PyTorch tensor with all zeros, ones or random values."
      ]
    },
    {
      "cell_type": "code",
      "metadata": {
        "id": "W2ySw3m-A9qF",
        "colab": {
          "base_uri": "https://localhost:8080/"
        },
        "outputId": "6d7cda3b-2850-48c8-8bdc-70580f15e391"
      },
      "source": [
        "# Generate 3 x 4 tensor with all ones\n",
        "ones = torch.ones(3, 4)\n",
        "print(ones)\n",
        "\n",
        "# Generate 3 x 4 tensor with all zeros\n",
        "zeros = torch.zeros(3, 4)\n",
        "print(zeros)\n",
        "\n",
        "# Generate 3 x 4 tensor with random values on the interval [0, 1)\n",
        "random_tensor = torch.rand(3, 4)\n",
        "print(random_tensor)\n",
        "\n",
        "# Get the shape of the tensor\n",
        "print(ones.shape)"
      ],
      "execution_count": 121,
      "outputs": [
        {
          "output_type": "stream",
          "name": "stdout",
          "text": [
            "tensor([[1., 1., 1., 1.],\n",
            "        [1., 1., 1., 1.],\n",
            "        [1., 1., 1., 1.]])\n",
            "tensor([[0., 0., 0., 0.],\n",
            "        [0., 0., 0., 0.],\n",
            "        [0., 0., 0., 0.]])\n",
            "tensor([[0.2417, 0.9127, 0.7875, 0.6463],\n",
            "        [0.1192, 0.1317, 0.9079, 0.4481],\n",
            "        [0.0022, 0.4382, 0.3800, 0.5075]])\n",
            "torch.Size([3, 4])\n"
          ]
        }
      ]
    },
    {
      "cell_type": "markdown",
      "metadata": {
        "id": "x8mp66eHBxWC"
      },
      "source": [
        "PyTorch tensor contains elements for a single data type, the `dtype`."
      ]
    },
    {
      "cell_type": "code",
      "metadata": {
        "id": "rQiOvKJJBwq4",
        "colab": {
          "base_uri": "https://localhost:8080/"
        },
        "outputId": "99e2d2c6-a438-43d6-f452-38ed5b9ffcca"
      },
      "source": [
        "# Create a 3 x 4 tensor with all 32-bit floating point zeros\n",
        "zeros = torch.zeros(3, 4, dtype=torch.float32)\n",
        "print(zeros.dtype)\n",
        "\n",
        "# Change the tensor dtype to 64-bit integer\n",
        "zeros = zeros.type(torch.long)\n",
        "print(zeros.dtype)"
      ],
      "execution_count": 122,
      "outputs": [
        {
          "output_type": "stream",
          "name": "stdout",
          "text": [
            "torch.float32\n",
            "torch.int64\n"
          ]
        }
      ]
    },
    {
      "cell_type": "markdown",
      "metadata": {
        "id": "I9EfegIRDkk2"
      },
      "source": [
        "## Question 5: Get the edge list of the karate club network and transform it into `torch.LongTensor`. What is the `torch.sum` value of `pos_edge_index` tensor? (10 Points)"
      ]
    },
    {
      "cell_type": "code",
      "source": [
        "torch.tensor(list(G.edges),dtype=torch.long).shape"
      ],
      "metadata": {
        "colab": {
          "base_uri": "https://localhost:8080/"
        },
        "id": "xKz1Zh6neNEU",
        "outputId": "17df84a1-4c47-4838-8e58-72407759e9ce"
      },
      "execution_count": 123,
      "outputs": [
        {
          "output_type": "execute_result",
          "data": {
            "text/plain": [
              "torch.Size([78, 2])"
            ]
          },
          "metadata": {},
          "execution_count": 123
        }
      ]
    },
    {
      "cell_type": "code",
      "metadata": {
        "id": "kEtVxMFID3ZT",
        "colab": {
          "base_uri": "https://localhost:8080/"
        },
        "outputId": "e7743a63-2947-449a-d6f8-eef7781fd83e"
      },
      "source": [
        "def graph_to_edge_list(G):\n",
        "  # TODO: Implement the function that returns the edge list of\n",
        "  # an nx.Graph. The returned edge_list should be a list of tuples\n",
        "  # where each tuple is a tuple representing an edge connected\n",
        "  # by two nodes.\n",
        "\n",
        "  edge_list = []\n",
        "\n",
        "  ############# Your code here ############\n",
        "  edge_list = list(G.edges)\n",
        "  #########################################\n",
        "\n",
        "  return edge_list\n",
        "\n",
        "def edge_list_to_tensor(edge_list):\n",
        "  # TODO: Implement the function that transforms the edge_list to\n",
        "  # tensor. The input edge_list is a list of tuples and the resulting\n",
        "  # tensor should have the shape [2, len(edge_list)].\n",
        "\n",
        "  edge_index = torch.tensor([])\n",
        "\n",
        "  ############# Your code here ############\n",
        "  edge_index = torch.tensor(edge_list,dtype=torch.long).T\n",
        "  #########################################\n",
        "\n",
        "  return edge_index\n",
        "\n",
        "pos_edge_list = graph_to_edge_list(G)\n",
        "pos_edge_index = edge_list_to_tensor(pos_edge_list)\n",
        "print(\"The pos_edge_index tensor has shape {}\".format(pos_edge_index.shape))\n",
        "print(\"The pos_edge_index tensor has sum value {}\".format(torch.sum(pos_edge_index)))"
      ],
      "execution_count": 124,
      "outputs": [
        {
          "output_type": "stream",
          "name": "stdout",
          "text": [
            "The pos_edge_index tensor has shape torch.Size([2, 78])\n",
            "The pos_edge_index tensor has sum value 2535\n"
          ]
        }
      ]
    },
    {
      "cell_type": "markdown",
      "metadata": {
        "id": "UBL-ZmdHWqIu"
      },
      "source": [
        "## Question 6: Please implement following function that samples negative edges. Then answer which edges (edge_1 to edge_5) are the negative edges in the karate club network? (10 Points)\n",
        "\n",
        "\"Negative\" edges refer to the edges/links that do not exist in the graph. The term \"negative\" is borrowed from \"negative sampling\" in link prediction. It has nothing to do with the edge weights.\n",
        "\n",
        "For example, given an edge (src, dst), you should check that neither (src, dst) nor (dst, src) are edges in the Graph. If these hold true, then it is a negative edge."
      ]
    },
    {
      "cell_type": "code",
      "source": [
        "print(len(list(nx.non_edges(G))))\n",
        "print(nx.number_of_selfloops(G))\n",
        "print(pos_edge_list)\n",
        "(1,0) in nx.non_edges(G)"
      ],
      "metadata": {
        "colab": {
          "base_uri": "https://localhost:8080/"
        },
        "id": "8KJVnKEKa5K-",
        "outputId": "ffc2b6a5-a460-4854-e1fe-01bd526de4a7"
      },
      "execution_count": 125,
      "outputs": [
        {
          "output_type": "stream",
          "name": "stdout",
          "text": [
            "483\n",
            "0\n",
            "[(0, 1), (0, 2), (0, 3), (0, 4), (0, 5), (0, 6), (0, 7), (0, 8), (0, 10), (0, 11), (0, 12), (0, 13), (0, 17), (0, 19), (0, 21), (0, 31), (1, 2), (1, 3), (1, 7), (1, 13), (1, 17), (1, 19), (1, 21), (1, 30), (2, 3), (2, 7), (2, 8), (2, 9), (2, 13), (2, 27), (2, 28), (2, 32), (3, 7), (3, 12), (3, 13), (4, 6), (4, 10), (5, 6), (5, 10), (5, 16), (6, 16), (8, 30), (8, 32), (8, 33), (9, 33), (13, 33), (14, 32), (14, 33), (15, 32), (15, 33), (18, 32), (18, 33), (19, 33), (20, 32), (20, 33), (22, 32), (22, 33), (23, 25), (23, 27), (23, 29), (23, 32), (23, 33), (24, 25), (24, 27), (24, 31), (25, 31), (26, 29), (26, 33), (27, 33), (28, 31), (28, 33), (29, 32), (29, 33), (30, 32), (30, 33), (31, 32), (31, 33), (32, 33)]\n"
          ]
        },
        {
          "output_type": "execute_result",
          "data": {
            "text/plain": [
              "False"
            ]
          },
          "metadata": {},
          "execution_count": 125
        }
      ]
    },
    {
      "cell_type": "code",
      "metadata": {
        "id": "9N8VT1f8-IJ8",
        "colab": {
          "base_uri": "https://localhost:8080/"
        },
        "outputId": "c1e101a4-fe08-481a-b76b-39ec1ce26cbd"
      },
      "source": [
        "import random\n",
        "\n",
        "def sample_negative_edges(G, num_neg_samples):\n",
        "  # TODO: Implement the function that returns a list of negative edges.\n",
        "  # The number of sampled negative edges is num_neg_samples. You do not\n",
        "  # need to consider the corner case when the number of possible negative edges\n",
        "  # is less than num_neg_samples. It should be ok as long as your implementation\n",
        "  # works on the karate club network. In this implementation, self loops should\n",
        "  # not be considered as either a positive or negative edge. Also, notice that\n",
        "  # the karate club network is an undirected graph, if (0, 1) is a positive\n",
        "  # edge, do you think (1, 0) can be a negative one?\n",
        "\n",
        "  neg_edge_list = []\n",
        "\n",
        "  ############# Your code here ############\n",
        "  neg_edge_list = random.sample(list(nx.non_edges(G)), num_neg_samples)\n",
        "  #########################################\n",
        "\n",
        "  return neg_edge_list\n",
        "\n",
        "# Sample 78 negative edges\n",
        "neg_edge_list = sample_negative_edges(G, len(pos_edge_list))\n",
        "\n",
        "# Transform the negative edge list to tensor\n",
        "neg_edge_index = edge_list_to_tensor(neg_edge_list)\n",
        "print(\"The neg_edge_index tensor has shape {}\".format(neg_edge_index.shape))\n",
        "\n",
        "# Which of following edges can be negative ones?\n",
        "edge_1 = (7, 1)\n",
        "edge_2 = (1, 33)\n",
        "edge_3 = (33, 22)\n",
        "edge_4 = (0, 4)\n",
        "edge_5 = (4, 2)\n",
        "\n",
        "############# Your code here ############\n",
        "## Note:\n",
        "## 1: For each of the 5 edges, print whether it can be negative edge\n",
        "print(f\"edge_1 can be a negative edgs: {edge_1 in list(nx.non_edges(G)) or (edge_1[1],edge_1[0]) in list(nx.non_edges(G))}\")\n",
        "print(f\"edge_2 can be a negative edgs: {edge_2 in list(nx.non_edges(G)) or (edge_2[1],edge_2[0]) in list(nx.non_edges(G))}\")\n",
        "print(f\"edge_3 can be a negative edgs: {edge_3 in  list(nx.non_edges(G))or (edge_3[1],edge_3[0]) in list(nx.non_edges(G))}\")\n",
        "print(f\"edge_4 can be a negative edgs: {edge_4 in  list(nx.non_edges(G))or (edge_4[1],edge_4[0]) in list(nx.non_edges(G))}\")\n",
        "print(f\"edge_5 can be a negative edgs: {edge_5 in  list(nx.non_edges(G))or (edge_5[1],edge_5[0]) in list(nx.non_edges(G))}\")\n",
        "#########################################"
      ],
      "execution_count": 126,
      "outputs": [
        {
          "output_type": "stream",
          "name": "stdout",
          "text": [
            "The neg_edge_index tensor has shape torch.Size([2, 78])\n",
            "edge_1 can be a negative edgs: False\n",
            "edge_2 can be a negative edgs: True\n",
            "edge_3 can be a negative edgs: False\n",
            "edge_4 can be a negative edgs: False\n",
            "edge_5 can be a negative edgs: True\n"
          ]
        }
      ]
    },
    {
      "cell_type": "markdown",
      "metadata": {
        "id": "Wk9Q-a-9qGsw"
      },
      "source": [
        "# 3 Node Emebedding Learning\n",
        "\n",
        "Finally, we will finish the first learning algorithm on graphs: a node embedding model.\n"
      ]
    },
    {
      "cell_type": "markdown",
      "metadata": {
        "id": "NDBxRQcZ_dUH"
      },
      "source": [
        "## Setup"
      ]
    },
    {
      "cell_type": "code",
      "metadata": {
        "id": "Lnqn9H6s_ehX",
        "colab": {
          "base_uri": "https://localhost:8080/"
        },
        "outputId": "6633b225-9ed1-45e5-e57d-8988f7400b1a"
      },
      "source": [
        "import torch\n",
        "import torch.nn as nn\n",
        "import matplotlib.pyplot as plt\n",
        "from sklearn.decomposition import PCA\n",
        "\n",
        "print(torch.__version__)"
      ],
      "execution_count": 127,
      "outputs": [
        {
          "output_type": "stream",
          "name": "stdout",
          "text": [
            "2.4.0+cu121\n"
          ]
        }
      ]
    },
    {
      "cell_type": "markdown",
      "metadata": {
        "id": "6gomAf8vxq0R"
      },
      "source": [
        "To write our own node embedding learning methods, we'll heavily use the [`nn.Embedding`](https://pytorch.org/docs/stable/generated/torch.nn.Embedding.html) module in PyTorch. Let's see how to use `nn.Embedding`:"
      ]
    },
    {
      "cell_type": "code",
      "metadata": {
        "id": "aRiWGuLAx5yx",
        "colab": {
          "base_uri": "https://localhost:8080/"
        },
        "outputId": "f6f54734-5599-4813-faa9-fbed00252547"
      },
      "source": [
        "# Initialize an embedding layer\n",
        "# Suppose we want to have embedding for 4 items (e.g., nodes)\n",
        "# Each item is represented with 8 dimensional vector\n",
        "\n",
        "emb_sample = nn.Embedding(num_embeddings=4, embedding_dim=8)\n",
        "print('Sample embedding layer: {}'.format(emb_sample))"
      ],
      "execution_count": 128,
      "outputs": [
        {
          "output_type": "stream",
          "name": "stdout",
          "text": [
            "Sample embedding layer: Embedding(4, 8)\n"
          ]
        }
      ]
    },
    {
      "cell_type": "markdown",
      "metadata": {
        "id": "bS9qQfeujEVh"
      },
      "source": [
        "We can select items from the embedding matrix, by using Tensor indices"
      ]
    },
    {
      "cell_type": "code",
      "metadata": {
        "id": "9AGIfP4QEDr8",
        "colab": {
          "base_uri": "https://localhost:8080/"
        },
        "outputId": "64782b17-9ec6-4a59-deba-f7925f3459c7"
      },
      "source": [
        "# Select an embedding in emb_sample\n",
        "id = torch.LongTensor([1])\n",
        "print(emb_sample(id))\n",
        "\n",
        "# Select multiple embeddings\n",
        "ids = torch.LongTensor([1, 3])\n",
        "print(emb_sample(ids))\n",
        "\n",
        "# Get the shape of the embedding weight matrix\n",
        "shape = emb_sample.weight.data.shape\n",
        "print(shape)\n",
        "\n",
        "# Overwrite the weight to tensor with all ones\n",
        "emb_sample.weight.data = torch.ones(shape)\n",
        "\n",
        "# Let's check if the emb is indeed initilized\n",
        "ids = torch.LongTensor([0, 3])\n",
        "print(emb_sample(ids))"
      ],
      "execution_count": 129,
      "outputs": [
        {
          "output_type": "stream",
          "name": "stdout",
          "text": [
            "tensor([[-4.4258e-01, -1.5349e+00,  1.1118e-03, -8.3201e-01,  6.3567e-01,\n",
            "         -7.7746e-01, -5.5710e-02, -4.4338e-02]], grad_fn=<EmbeddingBackward0>)\n",
            "tensor([[-4.4258e-01, -1.5349e+00,  1.1118e-03, -8.3201e-01,  6.3567e-01,\n",
            "         -7.7746e-01, -5.5710e-02, -4.4338e-02],\n",
            "        [ 4.5921e-01,  8.7926e-02,  9.4428e-01, -7.5985e-01,  1.6396e+00,\n",
            "         -1.9154e+00, -1.8657e+00, -6.7076e-01]], grad_fn=<EmbeddingBackward0>)\n",
            "torch.Size([4, 8])\n",
            "tensor([[1., 1., 1., 1., 1., 1., 1., 1.],\n",
            "        [1., 1., 1., 1., 1., 1., 1., 1.]], grad_fn=<EmbeddingBackward0>)\n"
          ]
        }
      ]
    },
    {
      "cell_type": "markdown",
      "metadata": {
        "id": "8MjBuDKaKIsM"
      },
      "source": [
        "Now, it's your time to create node embedding matrix for the graph we have!\n",
        "- We want to have **16 dimensional** vector for each node in the karate club network.\n",
        "- We want to initalize the matrix under **uniform distribution**, in the range of $[0, 1)$. We suggest you using [`torch.rand`](https://pytorch.org/docs/stable/generated/torch.rand.html)."
      ]
    },
    {
      "cell_type": "code",
      "source": [
        "torch.rand(34,16)"
      ],
      "metadata": {
        "colab": {
          "base_uri": "https://localhost:8080/"
        },
        "id": "cN9XREsmsw75",
        "outputId": "924709f6-c304-4ae6-8924-4d70131f4ad6"
      },
      "execution_count": 130,
      "outputs": [
        {
          "output_type": "execute_result",
          "data": {
            "text/plain": [
              "tensor([[7.1689e-03, 9.1023e-01, 1.8590e-01, 4.5918e-01, 9.5644e-01, 7.7095e-01,\n",
              "         3.4140e-01, 7.9516e-01, 1.3682e-02, 8.9089e-01, 9.8536e-01, 4.7729e-01,\n",
              "         5.8229e-01, 3.8268e-01, 1.8347e-01, 2.7384e-01],\n",
              "        [4.6680e-01, 9.0943e-02, 9.5893e-02, 5.5487e-01, 1.7466e-01, 2.2803e-01,\n",
              "         4.9568e-01, 2.3650e-01, 9.6282e-01, 3.1950e-01, 2.2198e-01, 3.6680e-01,\n",
              "         9.2063e-02, 7.5758e-01, 9.2960e-01, 2.1164e-01],\n",
              "        [3.1413e-01, 9.6663e-01, 1.3830e-01, 6.3542e-01, 9.2617e-02, 5.4977e-02,\n",
              "         5.0076e-01, 2.1463e-01, 7.7079e-01, 3.4535e-01, 5.0493e-01, 2.3896e-01,\n",
              "         7.0547e-01, 9.6326e-01, 4.2484e-01, 1.9139e-01],\n",
              "        [1.2338e-02, 9.7913e-01, 7.1074e-01, 7.0649e-01, 5.8513e-01, 7.5089e-01,\n",
              "         6.7756e-01, 7.4414e-01, 8.1271e-01, 5.7090e-01, 9.3067e-01, 8.1091e-01,\n",
              "         4.8469e-01, 2.7668e-01, 5.3315e-01, 8.8941e-01],\n",
              "        [8.1674e-01, 2.9739e-01, 3.9561e-01, 6.9852e-01, 6.8839e-01, 9.7612e-01,\n",
              "         7.4279e-01, 6.5929e-01, 6.1556e-01, 3.0101e-02, 3.1579e-01, 5.5292e-01,\n",
              "         1.5217e-01, 6.1916e-02, 8.3739e-01, 6.7005e-01],\n",
              "        [9.6517e-02, 5.2968e-01, 7.9446e-01, 7.8804e-01, 9.5660e-01, 3.0230e-01,\n",
              "         7.2264e-01, 9.4409e-02, 4.3833e-01, 1.8200e-01, 4.0479e-01, 7.8464e-01,\n",
              "         7.4926e-01, 2.3699e-01, 3.7602e-01, 3.9997e-01],\n",
              "        [3.0979e-01, 2.2610e-01, 8.6715e-01, 8.4561e-01, 9.1741e-01, 2.2544e-01,\n",
              "         8.6614e-01, 3.4838e-01, 3.8253e-01, 3.6538e-01, 4.7569e-01, 2.8105e-01,\n",
              "         5.6838e-01, 1.7773e-01, 7.0564e-01, 8.0689e-02],\n",
              "        [3.1874e-01, 1.5077e-01, 8.3728e-01, 8.4352e-01, 1.0232e-01, 2.2716e-01,\n",
              "         9.4749e-01, 6.4570e-01, 8.4429e-01, 1.1667e-01, 7.2566e-01, 8.1827e-01,\n",
              "         3.8399e-01, 4.7696e-01, 8.6459e-01, 6.3634e-01],\n",
              "        [6.4347e-01, 5.0152e-01, 2.9126e-01, 1.9396e-01, 9.9896e-01, 4.6050e-01,\n",
              "         9.4371e-01, 9.0910e-01, 2.3854e-01, 5.3399e-01, 3.7211e-01, 4.9092e-01,\n",
              "         8.2953e-01, 7.7533e-01, 2.1601e-01, 2.5259e-01],\n",
              "        [1.4480e-01, 7.5481e-02, 8.2075e-01, 1.9104e-01, 5.0653e-01, 4.9932e-01,\n",
              "         5.8554e-01, 4.7075e-01, 7.5947e-01, 5.6867e-01, 8.5854e-01, 6.0793e-01,\n",
              "         4.9376e-01, 5.7085e-01, 8.3325e-01, 5.7547e-01],\n",
              "        [8.5224e-01, 4.5259e-01, 5.0434e-01, 9.2007e-01, 2.7955e-02, 5.4988e-01,\n",
              "         9.5668e-01, 2.4909e-01, 4.0777e-01, 4.6988e-01, 6.6472e-01, 6.8898e-01,\n",
              "         6.1327e-01, 6.9724e-01, 2.8547e-01, 7.1035e-01],\n",
              "        [3.4146e-01, 8.1417e-01, 3.5326e-01, 7.4246e-02, 5.3571e-01, 7.6017e-01,\n",
              "         4.8040e-01, 5.0649e-01, 5.0177e-01, 7.6537e-01, 5.3912e-01, 5.3330e-02,\n",
              "         1.4342e-01, 5.2956e-01, 4.5985e-01, 9.7793e-01],\n",
              "        [3.8246e-01, 8.8265e-01, 7.8317e-02, 2.4793e-02, 4.5401e-01, 1.8341e-01,\n",
              "         3.5419e-01, 5.5632e-01, 6.6289e-02, 8.4359e-01, 1.9655e-01, 8.8364e-01,\n",
              "         6.6344e-01, 4.0623e-01, 6.2425e-02, 5.8276e-01],\n",
              "        [2.2067e-01, 9.3213e-01, 7.9374e-02, 3.6792e-01, 2.2444e-01, 1.7842e-01,\n",
              "         2.3922e-01, 4.5043e-01, 5.3382e-01, 5.8470e-01, 7.5550e-01, 2.9577e-01,\n",
              "         1.8977e-01, 3.9465e-01, 9.7118e-01, 4.3891e-01],\n",
              "        [7.9069e-02, 8.9233e-01, 6.2166e-01, 5.8678e-01, 5.8582e-01, 8.4885e-01,\n",
              "         2.7233e-01, 8.6441e-01, 9.8080e-01, 3.7107e-01, 8.1557e-01, 7.7586e-01,\n",
              "         9.6824e-01, 3.8363e-01, 2.0257e-01, 3.1440e-01],\n",
              "        [1.5983e-01, 5.1715e-01, 9.8207e-01, 9.8507e-01, 8.7768e-01, 5.4948e-01,\n",
              "         5.1085e-01, 8.3106e-01, 7.9689e-01, 4.5038e-01, 3.7354e-01, 6.9771e-01,\n",
              "         4.8265e-01, 1.4873e-01, 2.6482e-01, 9.0549e-01],\n",
              "        [9.1640e-01, 3.0517e-01, 3.9270e-01, 2.5219e-01, 3.3676e-01, 9.5578e-01,\n",
              "         5.5298e-02, 7.3859e-01, 5.0606e-02, 2.6145e-01, 3.9818e-01, 5.3465e-01,\n",
              "         4.1880e-01, 2.7144e-01, 2.7698e-01, 1.9588e-01],\n",
              "        [1.5100e-01, 1.8849e-01, 9.7946e-01, 2.6441e-01, 8.4206e-02, 8.4365e-01,\n",
              "         6.9398e-01, 8.4393e-01, 2.6526e-03, 2.4059e-02, 1.4513e-01, 2.3660e-01,\n",
              "         4.9890e-01, 7.1628e-01, 7.9273e-01, 6.9948e-02],\n",
              "        [6.9941e-01, 2.1085e-01, 6.1493e-01, 6.5698e-01, 5.8002e-01, 6.7690e-01,\n",
              "         4.7503e-01, 8.3009e-01, 6.0428e-01, 9.3805e-01, 6.0838e-01, 2.3531e-01,\n",
              "         8.2110e-01, 5.2709e-01, 9.8322e-01, 4.4470e-01],\n",
              "        [9.9471e-01, 2.0812e-01, 7.5129e-01, 1.2700e-01, 8.4327e-01, 5.9076e-01,\n",
              "         7.8387e-01, 6.9411e-02, 2.6239e-03, 7.4092e-01, 2.9429e-01, 6.9802e-01,\n",
              "         2.0336e-01, 3.4543e-01, 5.0224e-01, 8.0110e-01],\n",
              "        [7.8236e-01, 4.5534e-01, 3.5857e-01, 4.9133e-01, 7.5770e-01, 7.6215e-02,\n",
              "         3.4722e-01, 1.8002e-02, 5.7217e-01, 4.4086e-01, 7.8325e-01, 8.9944e-01,\n",
              "         7.2483e-02, 2.7872e-01, 4.1962e-01, 4.9501e-01],\n",
              "        [3.8587e-01, 1.8563e-01, 3.0680e-01, 4.8712e-01, 9.0209e-01, 3.7257e-01,\n",
              "         8.3020e-01, 9.5825e-02, 5.2236e-01, 1.0981e-01, 3.0817e-02, 5.4955e-01,\n",
              "         2.7106e-01, 8.6811e-01, 8.9493e-01, 2.3382e-03],\n",
              "        [4.6515e-01, 4.1458e-01, 2.1501e-01, 1.5093e-01, 2.8841e-01, 7.2075e-01,\n",
              "         6.1888e-01, 8.0093e-01, 4.7018e-01, 7.5969e-01, 5.9669e-01, 3.9097e-01,\n",
              "         4.7077e-01, 4.5253e-02, 4.8852e-01, 3.3574e-01],\n",
              "        [3.3267e-01, 2.9918e-01, 3.9068e-01, 1.3086e-01, 5.2934e-01, 4.7968e-01,\n",
              "         3.6831e-01, 9.3404e-01, 8.3556e-01, 6.4121e-01, 3.1584e-01, 5.6377e-01,\n",
              "         1.5597e-01, 8.4839e-01, 9.6701e-01, 4.2535e-01],\n",
              "        [8.8560e-01, 9.6925e-01, 4.6996e-01, 3.1434e-01, 5.2523e-01, 5.8263e-01,\n",
              "         3.7164e-02, 4.6881e-01, 3.1922e-01, 8.3365e-01, 4.8565e-01, 8.2897e-01,\n",
              "         9.4474e-01, 3.4330e-01, 6.0763e-01, 4.5723e-01],\n",
              "        [2.8210e-01, 2.2263e-01, 5.1157e-01, 6.5191e-01, 4.1206e-01, 5.8491e-01,\n",
              "         8.1246e-01, 7.0844e-01, 7.0619e-01, 6.4052e-01, 1.1564e-01, 1.9750e-01,\n",
              "         1.2921e-01, 8.2857e-01, 5.9616e-02, 1.2671e-01],\n",
              "        [8.2928e-01, 7.9555e-01, 2.7341e-02, 7.8891e-01, 3.8591e-01, 6.0772e-01,\n",
              "         1.8678e-01, 4.2410e-01, 6.1113e-01, 8.8124e-01, 8.0320e-01, 2.2811e-01,\n",
              "         1.7203e-01, 4.6957e-01, 6.5692e-01, 7.7415e-01],\n",
              "        [1.7485e-03, 4.5914e-01, 5.1768e-01, 2.6649e-01, 8.9437e-01, 3.6728e-01,\n",
              "         2.3301e-02, 2.0146e-01, 5.1603e-01, 1.2792e-01, 6.1421e-01, 9.8640e-01,\n",
              "         5.2047e-01, 3.7682e-01, 9.7105e-01, 8.6912e-01],\n",
              "        [8.3226e-01, 5.3793e-01, 5.2286e-01, 1.1224e-01, 5.5090e-01, 9.8633e-01,\n",
              "         5.2643e-01, 5.3807e-02, 7.7443e-01, 9.4873e-01, 9.1917e-01, 5.2358e-01,\n",
              "         5.9393e-01, 5.8092e-01, 2.9507e-01, 4.2704e-01],\n",
              "        [9.0790e-01, 5.5101e-01, 9.7124e-01, 1.6797e-01, 4.2693e-01, 5.0586e-01,\n",
              "         2.0242e-01, 8.8604e-01, 8.4921e-01, 2.3030e-01, 9.4049e-01, 9.6624e-01,\n",
              "         2.0601e-01, 4.8275e-01, 9.9829e-01, 1.7540e-01],\n",
              "        [4.2167e-01, 1.5687e-01, 8.6078e-01, 5.8105e-01, 7.0815e-01, 8.5879e-01,\n",
              "         4.2067e-01, 2.0623e-04, 5.2448e-01, 4.6131e-01, 6.8133e-01, 7.3340e-01,\n",
              "         2.5136e-01, 3.0305e-01, 8.1520e-01, 6.4234e-01],\n",
              "        [6.1454e-01, 7.2262e-01, 7.3250e-01, 1.3872e-01, 5.3993e-01, 5.4780e-01,\n",
              "         1.7017e-02, 6.0611e-01, 4.9333e-01, 8.8783e-01, 2.2752e-02, 9.7033e-01,\n",
              "         2.5531e-01, 7.9456e-01, 8.6939e-01, 4.3796e-01],\n",
              "        [2.4419e-01, 4.1699e-01, 1.8817e-01, 5.6180e-01, 7.1017e-01, 6.0333e-01,\n",
              "         2.1206e-01, 7.7320e-01, 9.5882e-01, 3.4787e-01, 7.5963e-01, 4.6704e-01,\n",
              "         7.0154e-01, 1.4341e-01, 7.3050e-02, 4.8581e-01],\n",
              "        [7.8705e-02, 6.8011e-01, 9.6807e-01, 4.0194e-01, 5.0482e-01, 5.7604e-01,\n",
              "         2.5838e-01, 4.7442e-01, 6.2881e-01, 9.0435e-01, 8.5177e-02, 4.9010e-01,\n",
              "         9.2080e-02, 4.5573e-01, 4.8681e-01, 2.9151e-01]])"
            ]
          },
          "metadata": {},
          "execution_count": 130
        }
      ]
    },
    {
      "cell_type": "code",
      "metadata": {
        "id": "hMszSwRPKGn1",
        "colab": {
          "base_uri": "https://localhost:8080/"
        },
        "outputId": "4b11ae8d-84d5-4453-a906-ddb955085be7"
      },
      "source": [
        "# Please do not change / reset the random seed\n",
        "torch.manual_seed(1)\n",
        "\n",
        "def create_node_emb(num_node=34, embedding_dim=16):\n",
        "  # TODO: Implement this function that will create the node embedding matrix.\n",
        "  # A torch.nn.Embedding layer will be returned. You do not need to change\n",
        "  # the values of num_node and embedding_dim. The weight matrix of returned\n",
        "  # layer should be initialized under uniform distribution.\n",
        "\n",
        "  emb = None\n",
        "\n",
        "  ############# Your code here ############\n",
        "  emb =  nn.Embedding(num_embeddings=num_node, embedding_dim=embedding_dim)\n",
        "  emb.weight.data = torch.rand(num_node, embedding_dim)\n",
        "  #########################################\n",
        "\n",
        "  return emb\n",
        "\n",
        "emb = create_node_emb()\n",
        "ids = torch.LongTensor([0, 3])\n",
        "\n",
        "# Print the embedding layer\n",
        "print(\"Embedding: {}\".format(emb))\n",
        "\n",
        "# An example that gets the embeddings for node 0 and 3\n",
        "print(emb(ids))\n",
        "print(ids)\n",
        "print(emb( torch.LongTensor([0, 1])))"
      ],
      "execution_count": 131,
      "outputs": [
        {
          "output_type": "stream",
          "name": "stdout",
          "text": [
            "Embedding: Embedding(34, 16)\n",
            "tensor([[0.2114, 0.7335, 0.1433, 0.9647, 0.2933, 0.7951, 0.5170, 0.2801, 0.8339,\n",
            "         0.1185, 0.2355, 0.5599, 0.8966, 0.2858, 0.1955, 0.1808],\n",
            "        [0.7486, 0.6546, 0.3843, 0.9820, 0.6012, 0.3710, 0.4929, 0.9915, 0.8358,\n",
            "         0.4629, 0.9902, 0.7196, 0.2338, 0.0450, 0.7906, 0.9689]],\n",
            "       grad_fn=<EmbeddingBackward0>)\n",
            "tensor([0, 3])\n",
            "tensor([[0.2114, 0.7335, 0.1433, 0.9647, 0.2933, 0.7951, 0.5170, 0.2801, 0.8339,\n",
            "         0.1185, 0.2355, 0.5599, 0.8966, 0.2858, 0.1955, 0.1808],\n",
            "        [0.2796, 0.3273, 0.3835, 0.2156, 0.6563, 0.5041, 0.1733, 0.2145, 0.6059,\n",
            "         0.4929, 0.8539, 0.4242, 0.0949, 0.1302, 0.3532, 0.3893]],\n",
            "       grad_fn=<EmbeddingBackward0>)\n"
          ]
        }
      ]
    },
    {
      "cell_type": "markdown",
      "metadata": {
        "id": "4QfoANibTzyh"
      },
      "source": [
        "## Visualize the initial node embeddings\n",
        "One good way to understand an embedding matrix, is to visualize it in a 2D space.\n",
        "Here, we have implemented an embedding visualization function for you.\n",
        "We first do PCA to reduce the dimensionality of embeddings to a 2D space.\n",
        "Then we visualize each point, colored by the community it belongs to."
      ]
    },
    {
      "cell_type": "code",
      "metadata": {
        "id": "_LCoIkarhfYD",
        "colab": {
          "base_uri": "https://localhost:8080/",
          "height": 522
        },
        "outputId": "6032be33-5331-42fa-b85e-bfae535b4516"
      },
      "source": [
        "def visualize_emb(emb):\n",
        "  X = emb.weight.data.numpy()\n",
        "  pca = PCA(n_components=2)\n",
        "  components = pca.fit_transform(X)\n",
        "  plt.figure(figsize=(6, 6))\n",
        "  club1_x = []\n",
        "  club1_y = []\n",
        "  club2_x = []\n",
        "  club2_y = []\n",
        "  for node in G.nodes(data=True):\n",
        "    if node[1]['club'] == 'Mr. Hi':\n",
        "      club1_x.append(components[node[0]][0])\n",
        "      club1_y.append(components[node[0]][1])\n",
        "    else:\n",
        "      club2_x.append(components[node[0]][0])\n",
        "      club2_y.append(components[node[0]][1])\n",
        "  plt.scatter(club1_x, club1_y, color=\"red\", label=\"Mr. Hi\")\n",
        "  plt.scatter(club2_x, club2_y, color=\"blue\", label=\"Officer\")\n",
        "  plt.legend()\n",
        "  plt.show()\n",
        "\n",
        "# Visualize the initial random embeddding\n",
        "visualize_emb(emb)"
      ],
      "execution_count": 132,
      "outputs": [
        {
          "output_type": "display_data",
          "data": {
            "text/plain": [
              "<Figure size 600x600 with 1 Axes>"
            ],
            "image/png": "[encoded data removed]"
          },
          "metadata": {}
        }
      ]
    },
    {
      "cell_type": "markdown",
      "metadata": {
        "id": "bQIyuEz9ANb2"
      },
      "source": [
        "## Question 7: Training the embedding! What is the best performance you can get? Please report both the best loss and accuracy on Gradescope. (20 Points)\n",
        "\n",
        "We want to optimize our embeddings for the task of classifying edges as positive or negative. Given an edge and the embeddings for each node, the dot product of the embeddings, followed by a sigmoid, should give us the likelihood of that edge being either positive (output of sigmoid > 0.5) or negative (output of sigmoid < 0.5).\n",
        "\n",
        "Note that we're using the functions you wrote in the previous questions, _as well as the variables initialized in previous cells_. If you're running into issues, make sure your answers to questions 1-6 are correct."
      ]
    },
    {
      "cell_type": "code",
      "metadata": {
        "id": "RDeQTNNxqH0j",
        "colab": {
          "base_uri": "https://localhost:8080/"
        },
        "outputId": "af761450-fc26-4c1b-ce78-746fea179471"
      },
      "source": [
        "from torch.optim import SGD\n",
        "import torch.nn as nn\n",
        "\n",
        "def accuracy(pred, label):\n",
        "  # TODO: Implement the accuracy function. This function takes the\n",
        "  # pred tensor (the resulting tensor after sigmoid) and the label\n",
        "  # tensor (torch.LongTensor). Predicted value greater than 0.5 will\n",
        "  # be classified as label 1. Else it will be classified as label 0.\n",
        "  # The returned accuracy should be rounded to 4 decimal places.\n",
        "  # For example, accuracy 0.82956 will be rounded to 0.8296.\n",
        "\n",
        "  accu = 0.0\n",
        "\n",
        "  ############# Your code here ############\n",
        "  pred_cls = torch.where(pred>0.5,1,0)\n",
        "  accu = 1-torch.round(torch.sum(pred_cls-label)*10000)/10000\n",
        "  # accu = torch.sum(pred_cls-label)\n",
        "  #########################################\n",
        "\n",
        "  return accu\n",
        "\n",
        "def train(emb, loss_fn, sigmoid, train_label, train_edge):\n",
        "  # TODO: Train the embedding layer here. You can also change epochs and\n",
        "  # learning rate. In general, you need to implement:\n",
        "  # (1) Get the embeddings of the nodes in train_edge\n",
        "  # (2) Dot product the embeddings between each node pair\n",
        "  # (3) Feed the dot product result into sigmoid\n",
        "  # (4) Feed the sigmoid output into the loss_fn\n",
        "  # (5) Print both loss and accuracy of each epoch\n",
        "  # (6) Update the embeddings using the loss and optimizer\n",
        "  # (as a sanity check, the loss should decrease during training)\n",
        "\n",
        "  epochs = 500\n",
        "  learning_rate = 0.1\n",
        "\n",
        "  optimizer = SGD(emb.parameters(), lr=learning_rate, momentum=0.9)\n",
        "\n",
        "  for i in range(epochs):\n",
        "\n",
        "    ############# Your code here ############\n",
        "    train_emb = emb(train_edge)\n",
        "    pred = sigmoid(torch.sum((train_emb[0]*train_emb[1]),dim=1)) #check similarity of all nodes with all nodes in the emb space and sum over the emb dim (16) to get a number for each pair\n",
        "    loss = loss_fn(pred, train_label)\n",
        "    acc =  accuracy(pred, train_label)\n",
        "    print(f\"loss in epoch {i} is: {loss} and accuracy is {acc}\")\n",
        "    optimizer.zero_grad()\n",
        "    loss.backward()\n",
        "    optimizer.step()\n",
        "\n",
        "    #########################################\n",
        "\n",
        "loss_fn = nn.BCELoss()\n",
        "sigmoid = nn.Sigmoid()\n",
        "\n",
        "print(pos_edge_index.shape)\n",
        "\n",
        "# Generate the positive and negative labels\n",
        "pos_label = torch.ones(pos_edge_index.shape[1], )\n",
        "neg_label = torch.zeros(neg_edge_index.shape[1], )\n",
        "\n",
        "# Concat positive and negative labels into one tensor\n",
        "train_label = torch.cat([pos_label, neg_label], dim=0)\n",
        "\n",
        "# Concat positive and negative edges into one tensor\n",
        "# Since the network is very small, we do not split the edges into val/test sets\n",
        "train_edge = torch.cat([pos_edge_index, neg_edge_index], dim=1)\n",
        "print(train_edge.shape)\n",
        "\n",
        "train(emb, loss_fn, sigmoid, train_label, train_edge)"
      ],
      "execution_count": 133,
      "outputs": [
        {
          "output_type": "stream",
          "name": "stdout",
          "text": [
            "torch.Size([2, 78])\n",
            "torch.Size([2, 156])\n",
            "loss in epoch 0 is: 2.0517616271972656 and accuracy is -77.0\n",
            "loss in epoch 1 is: 2.037796974182129 and accuracy is -77.0\n",
            "loss in epoch 2 is: 2.011476516723633 and accuracy is -77.0\n",
            "loss in epoch 3 is: 1.974424123764038 and accuracy is -77.0\n",
            "loss in epoch 4 is: 1.9282392263412476 and accuracy is -77.0\n",
            "loss in epoch 5 is: 1.8744726181030273 and accuracy is -77.0\n",
            "loss in epoch 6 is: 1.814605474472046 and accuracy is -77.0\n",
            "loss in epoch 7 is: 1.7500368356704712 and accuracy is -77.0\n",
            "loss in epoch 8 is: 1.6820709705352783 and accuracy is -77.0\n",
            "loss in epoch 9 is: 1.6119134426116943 and accuracy is -77.0\n",
            "loss in epoch 10 is: 1.5406622886657715 and accuracy is -77.0\n",
            "loss in epoch 11 is: 1.4693078994750977 and accuracy is -77.0\n",
            "loss in epoch 12 is: 1.3987277746200562 and accuracy is -77.0\n",
            "loss in epoch 13 is: 1.3296853303909302 and accuracy is -77.0\n",
            "loss in epoch 14 is: 1.262829065322876 and accuracy is -77.0\n",
            "loss in epoch 15 is: 1.1986920833587646 and accuracy is -77.0\n",
            "loss in epoch 16 is: 1.1376938819885254 and accuracy is -77.0\n",
            "loss in epoch 17 is: 1.080143928527832 and accuracy is -77.0\n",
            "loss in epoch 18 is: 1.0262471437454224 and accuracy is -77.0\n",
            "loss in epoch 19 is: 0.9761124849319458 and accuracy is -77.0\n",
            "loss in epoch 20 is: 0.9297624230384827 and accuracy is -77.0\n",
            "loss in epoch 21 is: 0.8871462941169739 and accuracy is -75.0\n",
            "loss in epoch 22 is: 0.8481525778770447 and accuracy is -75.0\n",
            "loss in epoch 23 is: 0.8126221299171448 and accuracy is -74.0\n",
            "loss in epoch 24 is: 0.7803611159324646 and accuracy is -74.0\n",
            "loss in epoch 25 is: 0.7511523365974426 and accuracy is -74.0\n",
            "loss in epoch 26 is: 0.7247657775878906 and accuracy is -73.0\n",
            "loss in epoch 27 is: 0.7009663581848145 and accuracy is -70.0\n",
            "loss in epoch 28 is: 0.6795213222503662 and accuracy is -69.0\n",
            "loss in epoch 29 is: 0.6602045893669128 and accuracy is -67.0\n",
            "loss in epoch 30 is: 0.6428011059761047 and accuracy is -60.0\n",
            "loss in epoch 31 is: 0.6271089315414429 and accuracy is -55.0\n",
            "loss in epoch 32 is: 0.612940788269043 and accuracy is -52.0\n",
            "loss in epoch 33 is: 0.6001248955726624 and accuracy is -50.0\n",
            "loss in epoch 34 is: 0.5885049700737 and accuracy is -45.0\n",
            "loss in epoch 35 is: 0.577940046787262 and accuracy is -40.0\n",
            "loss in epoch 36 is: 0.5683033466339111 and accuracy is -35.0\n",
            "loss in epoch 37 is: 0.5594819188117981 and accuracy is -32.0\n",
            "loss in epoch 38 is: 0.5513754487037659 and accuracy is -31.0\n",
            "loss in epoch 39 is: 0.5438950061798096 and accuracy is -27.0\n",
            "loss in epoch 40 is: 0.5369622111320496 and accuracy is -26.0\n",
            "loss in epoch 41 is: 0.5305082201957703 and accuracy is -24.0\n",
            "loss in epoch 42 is: 0.5244725942611694 and accuracy is -22.0\n",
            "loss in epoch 43 is: 0.5188022255897522 and accuracy is -21.0\n",
            "loss in epoch 44 is: 0.5134510397911072 and accuracy is -21.0\n",
            "loss in epoch 45 is: 0.5083785653114319 and accuracy is -20.0\n",
            "loss in epoch 46 is: 0.5035495162010193 and accuracy is -19.0\n",
            "loss in epoch 47 is: 0.498933345079422 and accuracy is -18.0\n",
            "loss in epoch 48 is: 0.49450331926345825 and accuracy is -17.0\n",
            "loss in epoch 49 is: 0.49023622274398804 and accuracy is -17.0\n",
            "loss in epoch 50 is: 0.48611196875572205 and accuracy is -15.0\n",
            "loss in epoch 51 is: 0.4821130335330963 and accuracy is -14.0\n",
            "loss in epoch 52 is: 0.47822412848472595 and accuracy is -13.0\n",
            "loss in epoch 53 is: 0.47443220019340515 and accuracy is -13.0\n",
            "loss in epoch 54 is: 0.4707256853580475 and accuracy is -13.0\n",
            "loss in epoch 55 is: 0.46709463000297546 and accuracy is -13.0\n",
            "loss in epoch 56 is: 0.46353042125701904 and accuracy is -13.0\n",
            "loss in epoch 57 is: 0.4600255787372589 and accuracy is -12.0\n",
            "loss in epoch 58 is: 0.4565735459327698 and accuracy is -11.0\n",
            "loss in epoch 59 is: 0.45316872000694275 and accuracy is -11.0\n",
            "loss in epoch 60 is: 0.4498060643672943 and accuracy is -10.0\n",
            "loss in epoch 61 is: 0.4464813768863678 and accuracy is -8.0\n",
            "loss in epoch 62 is: 0.44319093227386475 and accuracy is -7.0\n",
            "loss in epoch 63 is: 0.4399314820766449 and accuracy is -5.0\n",
            "loss in epoch 64 is: 0.43670007586479187 and accuracy is -5.0\n",
            "loss in epoch 65 is: 0.43349435925483704 and accuracy is -4.0\n",
            "loss in epoch 66 is: 0.43031203746795654 and accuracy is -4.0\n",
            "loss in epoch 67 is: 0.4271514117717743 and accuracy is -2.0\n",
            "loss in epoch 68 is: 0.4240105450153351 and accuracy is -2.0\n",
            "loss in epoch 69 is: 0.42088815569877625 and accuracy is -1.0\n",
            "loss in epoch 70 is: 0.41778290271759033 and accuracy is -1.0\n",
            "loss in epoch 71 is: 0.414693683385849 and accuracy is -1.0\n",
            "loss in epoch 72 is: 0.41161951422691345 and accuracy is -2.0\n",
            "loss in epoch 73 is: 0.40855950117111206 and accuracy is -2.0\n",
            "loss in epoch 74 is: 0.40551286935806274 and accuracy is -2.0\n",
            "loss in epoch 75 is: 0.4024788737297058 and accuracy is -2.0\n",
            "loss in epoch 76 is: 0.39945703744888306 and accuracy is -1.0\n",
            "loss in epoch 77 is: 0.39644670486450195 and accuracy is 0.0\n",
            "loss in epoch 78 is: 0.3934475779533386 and accuracy is 0.0\n",
            "loss in epoch 79 is: 0.3904590904712677 and accuracy is 1.0\n",
            "loss in epoch 80 is: 0.3874810039997101 and accuracy is 1.0\n",
            "loss in epoch 81 is: 0.38451293110847473 and accuracy is 2.0\n",
            "loss in epoch 82 is: 0.38155466318130493 and accuracy is 3.0\n",
            "loss in epoch 83 is: 0.3786059617996216 and accuracy is 4.0\n",
            "loss in epoch 84 is: 0.37566661834716797 and accuracy is 4.0\n",
            "loss in epoch 85 is: 0.37273645401000977 and accuracy is 4.0\n",
            "loss in epoch 86 is: 0.3698153793811798 and accuracy is 3.0\n",
            "loss in epoch 87 is: 0.3669033348560333 and accuracy is 3.0\n",
            "loss in epoch 88 is: 0.3640001714229584 and accuracy is 3.0\n",
            "loss in epoch 89 is: 0.36110585927963257 and accuracy is 3.0\n",
            "loss in epoch 90 is: 0.35822033882141113 and accuracy is 3.0\n",
            "loss in epoch 91 is: 0.35534369945526123 and accuracy is 3.0\n",
            "loss in epoch 92 is: 0.3524759113788605 and accuracy is 3.0\n",
            "loss in epoch 93 is: 0.3496169149875641 and accuracy is 3.0\n",
            "loss in epoch 94 is: 0.3467668294906616 and accuracy is 3.0\n",
            "loss in epoch 95 is: 0.34392571449279785 and accuracy is 3.0\n",
            "loss in epoch 96 is: 0.34109368920326233 and accuracy is 4.0\n",
            "loss in epoch 97 is: 0.33827081322669983 and accuracy is 4.0\n",
            "loss in epoch 98 is: 0.3354571461677551 and accuracy is 5.0\n",
            "loss in epoch 99 is: 0.33265283703804016 and accuracy is 6.0\n",
            "loss in epoch 100 is: 0.32985803484916687 and accuracy is 6.0\n",
            "loss in epoch 101 is: 0.3270728588104248 and accuracy is 6.0\n",
            "loss in epoch 102 is: 0.3242974877357483 and accuracy is 6.0\n",
            "loss in epoch 103 is: 0.3215320408344269 and accuracy is 6.0\n",
            "loss in epoch 104 is: 0.3187766969203949 and accuracy is 5.0\n",
            "loss in epoch 105 is: 0.31603166460990906 and accuracy is 5.0\n",
            "loss in epoch 106 is: 0.3132970929145813 and accuracy is 4.0\n",
            "loss in epoch 107 is: 0.31057316064834595 and accuracy is 3.0\n",
            "loss in epoch 108 is: 0.3078601658344269 and accuracy is 3.0\n",
            "loss in epoch 109 is: 0.30515819787979126 and accuracy is 3.0\n",
            "loss in epoch 110 is: 0.30246755480766296 and accuracy is 3.0\n",
            "loss in epoch 111 is: 0.29978829622268677 and accuracy is 3.0\n",
            "loss in epoch 112 is: 0.2971208393573761 and accuracy is 3.0\n",
            "loss in epoch 113 is: 0.2944652736186981 and accuracy is 3.0\n",
            "loss in epoch 114 is: 0.2918218970298767 and accuracy is 1.0\n",
            "loss in epoch 115 is: 0.2891908884048462 and accuracy is 1.0\n",
            "loss in epoch 116 is: 0.28657251596450806 and accuracy is 1.0\n",
            "loss in epoch 117 is: 0.28396695852279663 and accuracy is 0.0\n",
            "loss in epoch 118 is: 0.2813745141029358 and accuracy is 0.0\n",
            "loss in epoch 119 is: 0.2787953317165375 and accuracy is 0.0\n",
            "loss in epoch 120 is: 0.27622973918914795 and accuracy is 0.0\n",
            "loss in epoch 121 is: 0.27367791533470154 and accuracy is 0.0\n",
            "loss in epoch 122 is: 0.27114012837409973 and accuracy is 1.0\n",
            "loss in epoch 123 is: 0.26861652731895447 and accuracy is 1.0\n",
            "loss in epoch 124 is: 0.2661074101924896 and accuracy is 1.0\n",
            "loss in epoch 125 is: 0.2636129558086395 and accuracy is 1.0\n",
            "loss in epoch 126 is: 0.26113346219062805 and accuracy is 1.0\n",
            "loss in epoch 127 is: 0.2586691081523895 and accuracy is 1.0\n",
            "loss in epoch 128 is: 0.2562200725078583 and accuracy is 1.0\n",
            "loss in epoch 129 is: 0.253786563873291 and accuracy is 2.0\n",
            "loss in epoch 130 is: 0.251368910074234 and accuracy is 2.0\n",
            "loss in epoch 131 is: 0.24896720051765442 and accuracy is 2.0\n",
            "loss in epoch 132 is: 0.24658165872097015 and accuracy is 2.0\n",
            "loss in epoch 133 is: 0.24421249330043793 and accuracy is 2.0\n",
            "loss in epoch 134 is: 0.24185989797115326 and accuracy is 2.0\n",
            "loss in epoch 135 is: 0.23952403664588928 and accuracy is 2.0\n",
            "loss in epoch 136 is: 0.2372051179409027 and accuracy is 2.0\n",
            "loss in epoch 137 is: 0.2349032312631607 and accuracy is 2.0\n",
            "loss in epoch 138 is: 0.23261860013008118 and accuracy is 2.0\n",
            "loss in epoch 139 is: 0.23035140335559845 and accuracy is 2.0\n",
            "loss in epoch 140 is: 0.2281017303466797 and accuracy is 2.0\n",
            "loss in epoch 141 is: 0.2258697897195816 and accuracy is 2.0\n",
            "loss in epoch 142 is: 0.22365562617778778 and accuracy is 1.0\n",
            "loss in epoch 143 is: 0.22145943343639374 and accuracy is 1.0\n",
            "loss in epoch 144 is: 0.21928130090236664 and accuracy is 1.0\n",
            "loss in epoch 145 is: 0.21712134778499603 and accuracy is 2.0\n",
            "loss in epoch 146 is: 0.21497966349124908 and accuracy is 2.0\n",
            "loss in epoch 147 is: 0.21285636723041534 and accuracy is 2.0\n",
            "loss in epoch 148 is: 0.2107515037059784 and accuracy is 1.0\n",
            "loss in epoch 149 is: 0.20866519212722778 and accuracy is 1.0\n",
            "loss in epoch 150 is: 0.2065974473953247 and accuracy is 1.0\n",
            "loss in epoch 151 is: 0.20454834401607513 and accuracy is 1.0\n",
            "loss in epoch 152 is: 0.20251797139644623 and accuracy is 1.0\n",
            "loss in epoch 153 is: 0.20050634443759918 and accuracy is 1.0\n",
            "loss in epoch 154 is: 0.1985134780406952 and accuracy is 1.0\n",
            "loss in epoch 155 is: 0.19653946161270142 and accuracy is 1.0\n",
            "loss in epoch 156 is: 0.19458423554897308 and accuracy is 1.0\n",
            "loss in epoch 157 is: 0.19264782965183258 and accuracy is 1.0\n",
            "loss in epoch 158 is: 0.1907302737236023 and accuracy is 1.0\n",
            "loss in epoch 159 is: 0.18883155286312103 and accuracy is 1.0\n",
            "loss in epoch 160 is: 0.18695160746574402 and accuracy is 1.0\n",
            "loss in epoch 161 is: 0.18509049713611603 and accuracy is 1.0\n",
            "loss in epoch 162 is: 0.1832481175661087 and accuracy is 1.0\n",
            "loss in epoch 163 is: 0.18142446875572205 and accuracy is 1.0\n",
            "loss in epoch 164 is: 0.17961949110031128 and accuracy is 1.0\n",
            "loss in epoch 165 is: 0.1778331696987152 and accuracy is 1.0\n",
            "loss in epoch 166 is: 0.17606541514396667 and accuracy is 1.0\n",
            "loss in epoch 167 is: 0.1743161678314209 and accuracy is 1.0\n",
            "loss in epoch 168 is: 0.1725853830575943 and accuracy is 1.0\n",
            "loss in epoch 169 is: 0.17087295651435852 and accuracy is 1.0\n",
            "loss in epoch 170 is: 0.1691787987947464 and accuracy is 1.0\n",
            "loss in epoch 171 is: 0.16750286519527435 and accuracy is 1.0\n",
            "loss in epoch 172 is: 0.16584505140781403 and accuracy is 1.0\n",
            "loss in epoch 173 is: 0.16420523822307587 and accuracy is 1.0\n",
            "loss in epoch 174 is: 0.1625833511352539 and accuracy is 1.0\n",
            "loss in epoch 175 is: 0.1609792560338974 and accuracy is 1.0\n",
            "loss in epoch 176 is: 0.15939287841320038 and accuracy is 1.0\n",
            "loss in epoch 177 is: 0.1578240990638733 and accuracy is 1.0\n",
            "loss in epoch 178 is: 0.1562727987766266 and accuracy is 1.0\n",
            "loss in epoch 179 is: 0.15473884344100952 and accuracy is 1.0\n",
            "loss in epoch 180 is: 0.15322211384773254 and accuracy is 1.0\n",
            "loss in epoch 181 is: 0.1517224758863449 and accuracy is 1.0\n",
            "loss in epoch 182 is: 0.15023982524871826 and accuracy is 1.0\n",
            "loss in epoch 183 is: 0.14877399802207947 and accuracy is 1.0\n",
            "loss in epoch 184 is: 0.14732487499713898 and accuracy is 1.0\n",
            "loss in epoch 185 is: 0.14589232206344604 and accuracy is 1.0\n",
            "loss in epoch 186 is: 0.14447623491287231 and accuracy is 1.0\n",
            "loss in epoch 187 is: 0.14307639002799988 and accuracy is 1.0\n",
            "loss in epoch 188 is: 0.14169269800186157 and accuracy is 1.0\n",
            "loss in epoch 189 is: 0.14032502472400665 and accuracy is 1.0\n",
            "loss in epoch 190 is: 0.1389731913805008 and accuracy is 1.0\n",
            "loss in epoch 191 is: 0.13763706386089325 and accuracy is 1.0\n",
            "loss in epoch 192 is: 0.13631652295589447 and accuracy is 1.0\n",
            "loss in epoch 193 is: 0.13501136004924774 and accuracy is 1.0\n",
            "loss in epoch 194 is: 0.1337214708328247 and accuracy is 1.0\n",
            "loss in epoch 195 is: 0.13244672119617462 and accuracy is 1.0\n",
            "loss in epoch 196 is: 0.13118690252304077 and accuracy is 1.0\n",
            "loss in epoch 197 is: 0.1299418956041336 and accuracy is 1.0\n",
            "loss in epoch 198 is: 0.1287115514278412 and accuracy is 1.0\n",
            "loss in epoch 199 is: 0.12749573588371277 and accuracy is 1.0\n",
            "loss in epoch 200 is: 0.12629424035549164 and accuracy is 1.0\n",
            "loss in epoch 201 is: 0.12510697543621063 and accuracy is 1.0\n",
            "loss in epoch 202 is: 0.12393375486135483 and accuracy is 1.0\n",
            "loss in epoch 203 is: 0.12277444452047348 and accuracy is 1.0\n",
            "loss in epoch 204 is: 0.12162887305021286 and accuracy is 1.0\n",
            "loss in epoch 205 is: 0.12049692124128342 and accuracy is 1.0\n",
            "loss in epoch 206 is: 0.11937839537858963 and accuracy is 1.0\n",
            "loss in epoch 207 is: 0.11827316135168076 and accuracy is 1.0\n",
            "loss in epoch 208 is: 0.11718110740184784 and accuracy is 1.0\n",
            "loss in epoch 209 is: 0.11610206216573715 and accuracy is 1.0\n",
            "loss in epoch 210 is: 0.11503583937883377 and accuracy is 1.0\n",
            "loss in epoch 211 is: 0.11398233473300934 and accuracy is 1.0\n",
            "loss in epoch 212 is: 0.11294139921665192 and accuracy is 1.0\n",
            "loss in epoch 213 is: 0.11191287636756897 and accuracy is 1.0\n",
            "loss in epoch 214 is: 0.11089664697647095 and accuracy is 1.0\n",
            "loss in epoch 215 is: 0.10989251732826233 and accuracy is 1.0\n",
            "loss in epoch 216 is: 0.10890037566423416 and accuracy is 1.0\n",
            "loss in epoch 217 is: 0.1079200878739357 and accuracy is 1.0\n",
            "loss in epoch 218 is: 0.10695148259401321 and accuracy is 1.0\n",
            "loss in epoch 219 is: 0.10599445551633835 and accuracy is 1.0\n",
            "loss in epoch 220 is: 0.10504884272813797 and accuracy is 1.0\n",
            "loss in epoch 221 is: 0.10411453247070312 and accuracy is 1.0\n",
            "loss in epoch 222 is: 0.10319135338068008 and accuracy is 1.0\n",
            "loss in epoch 223 is: 0.1022791936993599 and accuracy is 1.0\n",
            "loss in epoch 224 is: 0.10137789696455002 and accuracy is 1.0\n",
            "loss in epoch 225 is: 0.1004873663187027 and accuracy is 1.0\n",
            "loss in epoch 226 is: 0.0996074452996254 and accuracy is 1.0\n",
            "loss in epoch 227 is: 0.09873799979686737 and accuracy is 1.0\n",
            "loss in epoch 228 is: 0.09787888824939728 and accuracy is 1.0\n",
            "loss in epoch 229 is: 0.09703000634908676 and accuracy is 1.0\n",
            "loss in epoch 230 is: 0.09619123488664627 and accuracy is 1.0\n",
            "loss in epoch 231 is: 0.09536242485046387 and accuracy is 1.0\n",
            "loss in epoch 232 is: 0.0945434495806694 and accuracy is 1.0\n",
            "loss in epoch 233 is: 0.09373420476913452 and accuracy is 1.0\n",
            "loss in epoch 234 is: 0.09293454140424728 and accuracy is 1.0\n",
            "loss in epoch 235 is: 0.09214434772729874 and accuracy is 1.0\n",
            "loss in epoch 236 is: 0.09136351197957993 and accuracy is 1.0\n",
            "loss in epoch 237 is: 0.0905919224023819 and accuracy is 1.0\n",
            "loss in epoch 238 is: 0.08982943743467331 and accuracy is 1.0\n",
            "loss in epoch 239 is: 0.0890759602189064 and accuracy is 1.0\n",
            "loss in epoch 240 is: 0.08833135664463043 and accuracy is 1.0\n",
            "loss in epoch 241 is: 0.08759552240371704 and accuracy is 1.0\n",
            "loss in epoch 242 is: 0.08686834573745728 and accuracy is 1.0\n",
            "loss in epoch 243 is: 0.08614970743656158 and accuracy is 1.0\n",
            "loss in epoch 244 is: 0.08543951064348221 and accuracy is 1.0\n",
            "loss in epoch 245 is: 0.084737628698349 and accuracy is 1.0\n",
            "loss in epoch 246 is: 0.0840439647436142 and accuracy is 1.0\n",
            "loss in epoch 247 is: 0.08335841447114944 and accuracy is 1.0\n",
            "loss in epoch 248 is: 0.08268085867166519 and accuracy is 1.0\n",
            "loss in epoch 249 is: 0.08201120048761368 and accuracy is 1.0\n",
            "loss in epoch 250 is: 0.08134932070970535 and accuracy is 1.0\n",
            "loss in epoch 251 is: 0.08069515973329544 and accuracy is 1.0\n",
            "loss in epoch 252 is: 0.0800485759973526 and accuracy is 1.0\n",
            "loss in epoch 253 is: 0.07940948009490967 and accuracy is 1.0\n",
            "loss in epoch 254 is: 0.07877778261899948 and accuracy is 1.0\n",
            "loss in epoch 255 is: 0.07815337926149368 and accuracy is 1.0\n",
            "loss in epoch 256 is: 0.07753616571426392 and accuracy is 1.0\n",
            "loss in epoch 257 is: 0.07692606002092361 and accuracy is 1.0\n",
            "loss in epoch 258 is: 0.07632296532392502 and accuracy is 1.0\n",
            "loss in epoch 259 is: 0.07572678476572037 and accuracy is 1.0\n",
            "loss in epoch 260 is: 0.0751374289393425 and accuracy is 1.0\n",
            "loss in epoch 261 is: 0.07455480843782425 and accuracy is 1.0\n",
            "loss in epoch 262 is: 0.07397882640361786 and accuracy is 1.0\n",
            "loss in epoch 263 is: 0.07340940833091736 and accuracy is 1.0\n",
            "loss in epoch 264 is: 0.07284646481275558 and accuracy is 1.0\n",
            "loss in epoch 265 is: 0.07228987663984299 and accuracy is 1.0\n",
            "loss in epoch 266 is: 0.07173962146043777 and accuracy is 1.0\n",
            "loss in epoch 267 is: 0.0711955651640892 and accuracy is 1.0\n",
            "loss in epoch 268 is: 0.0706576406955719 and accuracy is 1.0\n",
            "loss in epoch 269 is: 0.0701257660984993 and accuracy is 1.0\n",
            "loss in epoch 270 is: 0.06959985941648483 and accuracy is 1.0\n",
            "loss in epoch 271 is: 0.06907985359430313 and accuracy is 1.0\n",
            "loss in epoch 272 is: 0.06856565922498703 and accuracy is 1.0\n",
            "loss in epoch 273 is: 0.06805717945098877 and accuracy is 1.0\n",
            "loss in epoch 274 is: 0.06755437701940536 and accuracy is 1.0\n",
            "loss in epoch 275 is: 0.06705714762210846 and accuracy is 1.0\n",
            "loss in epoch 276 is: 0.06656543910503387 and accuracy is 1.0\n",
            "loss in epoch 277 is: 0.06607915461063385 and accuracy is 1.0\n",
            "loss in epoch 278 is: 0.06559824198484421 and accuracy is 1.0\n",
            "loss in epoch 279 is: 0.06512261927127838 and accuracy is 1.0\n",
            "loss in epoch 280 is: 0.064652219414711 and accuracy is 1.0\n",
            "loss in epoch 281 is: 0.06418696790933609 and accuracy is 1.0\n",
            "loss in epoch 282 is: 0.06372679769992828 and accuracy is 1.0\n",
            "loss in epoch 283 is: 0.06327164173126221 and accuracy is 1.0\n",
            "loss in epoch 284 is: 0.06282144039869308 and accuracy is 1.0\n",
            "loss in epoch 285 is: 0.06237613409757614 and accuracy is 1.0\n",
            "loss in epoch 286 is: 0.061935633420944214 and accuracy is 1.0\n",
            "loss in epoch 287 is: 0.06149988994002342 and accuracy is 1.0\n",
            "loss in epoch 288 is: 0.06106885150074959 and accuracy is 1.0\n",
            "loss in epoch 289 is: 0.060642439872026443 and accuracy is 1.0\n",
            "loss in epoch 290 is: 0.060220591723918915 and accuracy is 1.0\n",
            "loss in epoch 291 is: 0.059803254902362823 and accuracy is 1.0\n",
            "loss in epoch 292 is: 0.05939037352800369 and accuracy is 1.0\n",
            "loss in epoch 293 is: 0.05898188427090645 and accuracy is 1.0\n",
            "loss in epoch 294 is: 0.05857772007584572 and accuracy is 1.0\n",
            "loss in epoch 295 is: 0.058177851140499115 and accuracy is 1.0\n",
            "loss in epoch 296 is: 0.057782191783189774 and accuracy is 1.0\n",
            "loss in epoch 297 is: 0.05739069730043411 and accuracy is 1.0\n",
            "loss in epoch 298 is: 0.05700330808758736 and accuracy is 1.0\n",
            "loss in epoch 299 is: 0.056619979441165924 and accuracy is 1.0\n",
            "loss in epoch 300 is: 0.056240662932395935 and accuracy is 1.0\n",
            "loss in epoch 301 is: 0.055865295231342316 and accuracy is 1.0\n",
            "loss in epoch 302 is: 0.055493831634521484 and accuracy is 1.0\n",
            "loss in epoch 303 is: 0.055126216262578964 and accuracy is 1.0\n",
            "loss in epoch 304 is: 0.05476239323616028 and accuracy is 1.0\n",
            "loss in epoch 305 is: 0.05440233275294304 and accuracy is 1.0\n",
            "loss in epoch 306 is: 0.05404597520828247 and accuracy is 1.0\n",
            "loss in epoch 307 is: 0.0536932647228241 and accuracy is 1.0\n",
            "loss in epoch 308 is: 0.05334416404366493 and accuracy is 1.0\n",
            "loss in epoch 309 is: 0.0529986210167408 and accuracy is 1.0\n",
            "loss in epoch 310 is: 0.052656594663858414 and accuracy is 1.0\n",
            "loss in epoch 311 is: 0.052318040281534195 and accuracy is 1.0\n",
            "loss in epoch 312 is: 0.05198290944099426 and accuracy is 1.0\n",
            "loss in epoch 313 is: 0.051651161164045334 and accuracy is 1.0\n",
            "loss in epoch 314 is: 0.051322754472494125 and accuracy is 1.0\n",
            "loss in epoch 315 is: 0.05099764093756676 and accuracy is 1.0\n",
            "loss in epoch 316 is: 0.050675783306360245 and accuracy is 1.0\n",
            "loss in epoch 317 is: 0.05035713315010071 and accuracy is 1.0\n",
            "loss in epoch 318 is: 0.05004165694117546 and accuracy is 1.0\n",
            "loss in epoch 319 is: 0.04972930625081062 and accuracy is 1.0\n",
            "loss in epoch 320 is: 0.049420055001974106 and accuracy is 1.0\n",
            "loss in epoch 321 is: 0.04911385104060173 and accuracy is 1.0\n",
            "loss in epoch 322 is: 0.04881066083908081 and accuracy is 1.0\n",
            "loss in epoch 323 is: 0.04851044714450836 and accuracy is 1.0\n",
            "loss in epoch 324 is: 0.0482131689786911 and accuracy is 1.0\n",
            "loss in epoch 325 is: 0.04791880398988724 and accuracy is 1.0\n",
            "loss in epoch 326 is: 0.047627292573451996 and accuracy is 1.0\n",
            "loss in epoch 327 is: 0.047338616102933884 and accuracy is 1.0\n",
            "loss in epoch 328 is: 0.04705272614955902 and accuracy is 1.0\n",
            "loss in epoch 329 is: 0.046769604086875916 and accuracy is 1.0\n",
            "loss in epoch 330 is: 0.04648920148611069 and accuracy is 1.0\n",
            "loss in epoch 331 is: 0.04621148854494095 and accuracy is 1.0\n",
            "loss in epoch 332 is: 0.04593643918633461 and accuracy is 1.0\n",
            "loss in epoch 333 is: 0.04566401243209839 and accuracy is 1.0\n",
            "loss in epoch 334 is: 0.0453941747546196 and accuracy is 1.0\n",
            "loss in epoch 335 is: 0.04512690752744675 and accuracy is 1.0\n",
            "loss in epoch 336 is: 0.04486215487122536 and accuracy is 1.0\n",
            "loss in epoch 337 is: 0.04459991306066513 and accuracy is 1.0\n",
            "loss in epoch 338 is: 0.04434012994170189 and accuracy is 1.0\n",
            "loss in epoch 339 is: 0.04408279061317444 and accuracy is 1.0\n",
            "loss in epoch 340 is: 0.043827854096889496 and accuracy is 1.0\n",
            "loss in epoch 341 is: 0.04357529804110527 and accuracy is 1.0\n",
            "loss in epoch 342 is: 0.04332509636878967 and accuracy is 1.0\n",
            "loss in epoch 343 is: 0.04307721182703972 and accuracy is 1.0\n",
            "loss in epoch 344 is: 0.04283162206411362 and accuracy is 1.0\n",
            "loss in epoch 345 is: 0.04258828982710838 and accuracy is 1.0\n",
            "loss in epoch 346 is: 0.042347200214862823 and accuracy is 1.0\n",
            "loss in epoch 347 is: 0.04210832715034485 and accuracy is 1.0\n",
            "loss in epoch 348 is: 0.04187163710594177 and accuracy is 1.0\n",
            "loss in epoch 349 is: 0.041637104004621506 and accuracy is 1.0\n",
            "loss in epoch 350 is: 0.04140469804406166 and accuracy is 1.0\n",
            "loss in epoch 351 is: 0.041174400597810745 and accuracy is 1.0\n",
            "loss in epoch 352 is: 0.04094618931412697 and accuracy is 1.0\n",
            "loss in epoch 353 is: 0.04072003811597824 and accuracy is 1.0\n",
            "loss in epoch 354 is: 0.04049591347575188 and accuracy is 1.0\n",
            "loss in epoch 355 is: 0.04027380049228668 and accuracy is 1.0\n",
            "loss in epoch 356 is: 0.04005368426442146 and accuracy is 1.0\n",
            "loss in epoch 357 is: 0.03983551263809204 and accuracy is 1.0\n",
            "loss in epoch 358 is: 0.039619285613298416 and accuracy is 1.0\n",
            "loss in epoch 359 is: 0.0394049808382988 and accuracy is 1.0\n",
            "loss in epoch 360 is: 0.0391925647854805 and accuracy is 1.0\n",
            "loss in epoch 361 is: 0.03898202255368233 and accuracy is 1.0\n",
            "loss in epoch 362 is: 0.03877333179116249 and accuracy is 1.0\n",
            "loss in epoch 363 is: 0.0385664664208889 and accuracy is 1.0\n",
            "loss in epoch 364 is: 0.03836141154170036 and accuracy is 1.0\n",
            "loss in epoch 365 is: 0.03815813735127449 and accuracy is 1.0\n",
            "loss in epoch 366 is: 0.037956636399030685 and accuracy is 1.0\n",
            "loss in epoch 367 is: 0.03775688260793686 and accuracy is 1.0\n",
            "loss in epoch 368 is: 0.03755884990096092 and accuracy is 1.0\n",
            "loss in epoch 369 is: 0.03736251965165138 and accuracy is 1.0\n",
            "loss in epoch 370 is: 0.03716788440942764 and accuracy is 1.0\n",
            "loss in epoch 371 is: 0.036974914371967316 and accuracy is 1.0\n",
            "loss in epoch 372 is: 0.03678358718752861 and accuracy is 1.0\n",
            "loss in epoch 373 is: 0.03659389913082123 and accuracy is 1.0\n",
            "loss in epoch 374 is: 0.036405809223651886 and accuracy is 1.0\n",
            "loss in epoch 375 is: 0.03621932119131088 and accuracy is 1.0\n",
            "loss in epoch 376 is: 0.03603440895676613 and accuracy is 1.0\n",
            "loss in epoch 377 is: 0.03585105761885643 and accuracy is 1.0\n",
            "loss in epoch 378 is: 0.035669244825839996 and accuracy is 1.0\n",
            "loss in epoch 379 is: 0.035488951951265335 and accuracy is 1.0\n",
            "loss in epoch 380 is: 0.035310156643390656 and accuracy is 1.0\n",
            "loss in epoch 381 is: 0.03513285517692566 and accuracy is 1.0\n",
            "loss in epoch 382 is: 0.03495703265070915 and accuracy is 1.0\n",
            "loss in epoch 383 is: 0.03478265553712845 and accuracy is 1.0\n",
            "loss in epoch 384 is: 0.03460973501205444 and accuracy is 1.0\n",
            "loss in epoch 385 is: 0.03443821892142296 and accuracy is 1.0\n",
            "loss in epoch 386 is: 0.03426812216639519 and accuracy is 1.0\n",
            "loss in epoch 387 is: 0.034099411219358444 and accuracy is 1.0\n",
            "loss in epoch 388 is: 0.03393208235502243 and accuracy is 1.0\n",
            "loss in epoch 389 is: 0.033766116946935654 and accuracy is 1.0\n",
            "loss in epoch 390 is: 0.03360150009393692 and accuracy is 1.0\n",
            "loss in epoch 391 is: 0.033438220620155334 and accuracy is 1.0\n",
            "loss in epoch 392 is: 0.03327625244855881 and accuracy is 1.0\n",
            "loss in epoch 393 is: 0.03311559557914734 and accuracy is 1.0\n",
            "loss in epoch 394 is: 0.03295621648430824 and accuracy is 1.0\n",
            "loss in epoch 395 is: 0.032798122614622116 and accuracy is 1.0\n",
            "loss in epoch 396 is: 0.03264128789305687 and accuracy is 1.0\n",
            "loss in epoch 397 is: 0.032485704869031906 and accuracy is 1.0\n",
            "loss in epoch 398 is: 0.03233136236667633 and accuracy is 1.0\n",
            "loss in epoch 399 is: 0.032178230583667755 and accuracy is 1.0\n",
            "loss in epoch 400 is: 0.03202631697058678 and accuracy is 1.0\n",
            "loss in epoch 401 is: 0.031875599175691605 and accuracy is 1.0\n",
            "loss in epoch 402 is: 0.03172605484724045 and accuracy is 1.0\n",
            "loss in epoch 403 is: 0.031577691435813904 and accuracy is 1.0\n",
            "loss in epoch 404 is: 0.03143049031496048 and accuracy is 1.0\n",
            "loss in epoch 405 is: 0.031284429132938385 and accuracy is 1.0\n",
            "loss in epoch 406 is: 0.03113950602710247 and accuracy is 1.0\n",
            "loss in epoch 407 is: 0.030995702371001244 and accuracy is 1.0\n",
            "loss in epoch 408 is: 0.030853012576699257 and accuracy is 1.0\n",
            "loss in epoch 409 is: 0.03071141615509987 and accuracy is 1.0\n",
            "loss in epoch 410 is: 0.030570916831493378 and accuracy is 1.0\n",
            "loss in epoch 411 is: 0.030431490391492844 and accuracy is 1.0\n",
            "loss in epoch 412 is: 0.03029312752187252 and accuracy is 1.0\n",
            "loss in epoch 413 is: 0.03015582635998726 and accuracy is 1.0\n",
            "loss in epoch 414 is: 0.030019555240869522 and accuracy is 1.0\n",
            "loss in epoch 415 is: 0.029884332790970802 and accuracy is 1.0\n",
            "loss in epoch 416 is: 0.029750121757388115 and accuracy is 1.0\n",
            "loss in epoch 417 is: 0.02961692400276661 and accuracy is 1.0\n",
            "loss in epoch 418 is: 0.029484735801815987 and accuracy is 1.0\n",
            "loss in epoch 419 is: 0.02935352921485901 and accuracy is 1.0\n",
            "loss in epoch 420 is: 0.029223313555121422 and accuracy is 1.0\n",
            "loss in epoch 421 is: 0.029094066470861435 and accuracy is 1.0\n",
            "loss in epoch 422 is: 0.028965773060917854 and accuracy is 1.0\n",
            "loss in epoch 423 is: 0.028838438913226128 and accuracy is 1.0\n",
            "loss in epoch 424 is: 0.028712047263979912 and accuracy is 1.0\n",
            "loss in epoch 425 is: 0.028586577624082565 and accuracy is 1.0\n",
            "loss in epoch 426 is: 0.028462043032050133 and accuracy is 1.0\n",
            "loss in epoch 427 is: 0.028338413685560226 and accuracy is 1.0\n",
            "loss in epoch 428 is: 0.028215695172548294 and accuracy is 1.0\n",
            "loss in epoch 429 is: 0.02809387631714344 and accuracy is 1.0\n",
            "loss in epoch 430 is: 0.02797294594347477 and accuracy is 1.0\n",
            "loss in epoch 431 is: 0.027852879837155342 and accuracy is 1.0\n",
            "loss in epoch 432 is: 0.02773369289934635 and accuracy is 1.0\n",
            "loss in epoch 433 is: 0.027615370228886604 and accuracy is 1.0\n",
            "loss in epoch 434 is: 0.027497893199324608 and accuracy is 1.0\n",
            "loss in epoch 435 is: 0.02738126739859581 and accuracy is 1.0\n",
            "loss in epoch 436 is: 0.02726546861231327 and accuracy is 1.0\n",
            "loss in epoch 437 is: 0.027150506153702736 and accuracy is 1.0\n",
            "loss in epoch 438 is: 0.027036357671022415 and accuracy is 1.0\n",
            "loss in epoch 439 is: 0.02692302316427231 and accuracy is 1.0\n",
            "loss in epoch 440 is: 0.02681048959493637 and accuracy is 1.0\n",
            "loss in epoch 441 is: 0.026698755100369453 and accuracy is 1.0\n",
            "loss in epoch 442 is: 0.02658781036734581 and accuracy is 1.0\n",
            "loss in epoch 443 is: 0.026477642357349396 and accuracy is 1.0\n",
            "loss in epoch 444 is: 0.026368247345089912 and accuracy is 1.0\n",
            "loss in epoch 445 is: 0.02625962719321251 and accuracy is 1.0\n",
            "loss in epoch 446 is: 0.026151755824685097 and accuracy is 1.0\n",
            "loss in epoch 447 is: 0.02604464441537857 and accuracy is 1.0\n",
            "loss in epoch 448 is: 0.02593826688826084 and accuracy is 1.0\n",
            "loss in epoch 449 is: 0.025832632556557655 and accuracy is 1.0\n",
            "loss in epoch 450 is: 0.025727730244398117 and accuracy is 1.0\n",
            "loss in epoch 451 is: 0.025623545050621033 and accuracy is 1.0\n",
            "loss in epoch 452 is: 0.0255200807005167 and accuracy is 1.0\n",
            "loss in epoch 453 is: 0.025417327880859375 and accuracy is 1.0\n",
            "loss in epoch 454 is: 0.025315267965197563 and accuracy is 1.0\n",
            "loss in epoch 455 is: 0.02521391771733761 and accuracy is 1.0\n",
            "loss in epoch 456 is: 0.02511325478553772 and accuracy is 1.0\n",
            "loss in epoch 457 is: 0.025013266131281853 and accuracy is 1.0\n",
            "loss in epoch 458 is: 0.024913962930440903 and accuracy is 1.0\n",
            "loss in epoch 459 is: 0.024815324693918228 and accuracy is 1.0\n",
            "loss in epoch 460 is: 0.024717360734939575 and accuracy is 1.0\n",
            "loss in epoch 461 is: 0.024620044976472855 and accuracy is 1.0\n",
            "loss in epoch 462 is: 0.024523381143808365 and accuracy is 1.0\n",
            "loss in epoch 463 is: 0.024427367374300957 and accuracy is 1.0\n",
            "loss in epoch 464 is: 0.024331998080015182 and accuracy is 1.0\n",
            "loss in epoch 465 is: 0.024237260222434998 and accuracy is 1.0\n",
            "loss in epoch 466 is: 0.024143146350979805 and accuracy is 1.0\n",
            "loss in epoch 467 is: 0.024049660190939903 and accuracy is 1.0\n",
            "loss in epoch 468 is: 0.0239567868411541 and accuracy is 1.0\n",
            "loss in epoch 469 is: 0.023864537477493286 and accuracy is 1.0\n",
            "loss in epoch 470 is: 0.02377288229763508 and accuracy is 1.0\n",
            "loss in epoch 471 is: 0.023681828752160072 and accuracy is 1.0\n",
            "loss in epoch 472 is: 0.023591378703713417 and accuracy is 1.0\n",
            "loss in epoch 473 is: 0.02350151166319847 and accuracy is 1.0\n",
            "loss in epoch 474 is: 0.023412231355905533 and accuracy is 1.0\n",
            "loss in epoch 475 is: 0.023323528468608856 and accuracy is 1.0\n",
            "loss in epoch 476 is: 0.02323540300130844 and accuracy is 1.0\n",
            "loss in epoch 477 is: 0.023147843778133392 and accuracy is 1.0\n",
            "loss in epoch 478 is: 0.02306084893643856 and accuracy is 1.0\n",
            "loss in epoch 479 is: 0.022974414750933647 and accuracy is 1.0\n",
            "loss in epoch 480 is: 0.022888531908392906 and accuracy is 1.0\n",
            "loss in epoch 481 is: 0.022803205996751785 and accuracy is 1.0\n",
            "loss in epoch 482 is: 0.02271842211484909 and accuracy is 1.0\n",
            "loss in epoch 483 is: 0.022634169086813927 and accuracy is 1.0\n",
            "loss in epoch 484 is: 0.022550459951162338 and accuracy is 1.0\n",
            "loss in epoch 485 is: 0.022467276081442833 and accuracy is 1.0\n",
            "loss in epoch 486 is: 0.02238462120294571 and accuracy is 1.0\n",
            "loss in epoch 487 is: 0.02230248413980007 and accuracy is 1.0\n",
            "loss in epoch 488 is: 0.02222086489200592 and accuracy is 1.0\n",
            "loss in epoch 489 is: 0.022139757871627808 and accuracy is 1.0\n",
            "loss in epoch 490 is: 0.022059159353375435 and accuracy is 1.0\n",
            "loss in epoch 491 is: 0.021979063749313354 and accuracy is 1.0\n",
            "loss in epoch 492 is: 0.02189946174621582 and accuracy is 1.0\n",
            "loss in epoch 493 is: 0.02182035706937313 and accuracy is 1.0\n",
            "loss in epoch 494 is: 0.021741751581430435 and accuracy is 1.0\n",
            "loss in epoch 495 is: 0.021663617342710495 and accuracy is 1.0\n",
            "loss in epoch 496 is: 0.021585974842309952 and accuracy is 1.0\n",
            "loss in epoch 497 is: 0.02150881290435791 and accuracy is 1.0\n",
            "loss in epoch 498 is: 0.021432114765048027 and accuracy is 1.0\n",
            "loss in epoch 499 is: 0.021355895325541496 and accuracy is 1.0\n"
          ]
        }
      ]
    },
    {
      "cell_type": "code",
      "source": [
        "print(pos_edge_index.shape)\n",
        "\n",
        "# Generate the positive and negative labels\n",
        "pos_label = torch.ones(pos_edge_index.shape[1], )\n",
        "neg_label = torch.zeros(neg_edge_index.shape[1], )\n",
        "\n",
        "# Concat positive and negative labels into one tensor\n",
        "train_label = torch.cat([pos_label, neg_label], dim=0)\n",
        "\n",
        "# Concat positive and negative edges into one tensor\n",
        "# Since the network is very small, we do not split the edges into val/test sets\n",
        "train_edge = torch.cat([pos_edge_index, neg_edge_index], dim=1)\n",
        "print(train_edge.shape)\n",
        "\n",
        "print(emb((train_edge)).shape)\n",
        "train_emb = emb(train_edge)\n",
        "test = train_emb[0]*train_emb[1]\n",
        "test.shape\n"
      ],
      "metadata": {
        "colab": {
          "base_uri": "https://localhost:8080/"
        },
        "id": "I2ljtOnmxZQA",
        "outputId": "2866dd95-60f6-4178-a49a-fa1db8ca40a9"
      },
      "execution_count": 134,
      "outputs": [
        {
          "output_type": "stream",
          "name": "stdout",
          "text": [
            "torch.Size([2, 78])\n",
            "torch.Size([2, 156])\n",
            "torch.Size([2, 156, 16])\n"
          ]
        },
        {
          "output_type": "execute_result",
          "data": {
            "text/plain": [
              "torch.Size([156, 16])"
            ]
          },
          "metadata": {},
          "execution_count": 134
        }
      ]
    },
    {
      "cell_type": "markdown",
      "metadata": {
        "id": "WX2PSXnTDiNi"
      },
      "source": [
        "## Visualize the final node embeddings\n",
        "Visualize your final embedding here!\n",
        "You can visually compare the figure with the previous embedding figure.\n",
        "After training, you should oberserve that the two classes are more evidently separated.\n",
        "This is a great sanitity check for your implementation as well."
      ]
    },
    {
      "cell_type": "code",
      "metadata": {
        "id": "MtNgl4VhYKow",
        "colab": {
          "base_uri": "https://localhost:8080/",
          "height": 522
        },
        "outputId": "708f3964-5e62-43f6-b9a1-4d1029c8218f"
      },
      "source": [
        "# Visualize the final learned embedding\n",
        "visualize_emb(emb)"
      ],
      "execution_count": 135,
      "outputs": [
        {
          "output_type": "display_data",
          "data": {
            "text/plain": [
              "<Figure size 600x600 with 1 Axes>"
            ],
            "image/png": "[encoded data removed]"
          },
          "metadata": {}
        }
      ]
    },
    {
      "cell_type": "markdown",
      "metadata": {
        "id": "FTNyrAoSVeq9"
      },
      "source": [
        "# Submission"
      ]
    },
    {
      "cell_type": "markdown",
      "metadata": {
        "id": "E_E7J_GkVhY_"
      },
      "source": [
        "In order to get credit, you must go submit your answers on Gradescope."
      ]
    }
  ]
}